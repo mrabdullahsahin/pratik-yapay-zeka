{
 "cells": [
  {
   "cell_type": "markdown",
   "metadata": {
    "_uuid": "bf71945ed61b50db90d6ee39a1fe141fdcfa04fa",
    "button": false,
    "new_sheet": false,
    "run_control": {
     "read_only": false
    }
   },
   "source": [
    "## NumPy"
   ]
  },
  {
   "cell_type": "markdown",
   "metadata": {},
   "source": [
    "**NumPy**, bilimsel hesaplama için temel bir pakettir. Aşağıdakileri içeren bir **Python** dil uygulamasıdır:\n",
    "\n",
    "* Güçlü N boyutlu dizi yapısı\n",
    "* Gelişmiş fonksiyonlar\n",
    "* C/C++ ve Fortran koduna entegre edilebilen araçlar\n",
    "* Lineer cebir, Fourier dönüşümü ve rastgele sayı özellikleri\n",
    "\n",
    "Bilimsel hesaplama için kullanılmaya ek olarak, NumPy'da genel veriler için verimli çok boyutlu bir araç olarak kullanılabilir. Her tür veriyle çalışabileceği için, NumPy sorunsuz ve verimli bir şekilde birden fazla veri tabanı türüne entegre edilebilir."
   ]
  },
  {
   "cell_type": "markdown",
   "metadata": {},
   "source": [
    "## Kütüphaneyi Tanımlama"
   ]
  },
  {
   "cell_type": "code",
   "execution_count": 1,
   "metadata": {
    "_uuid": "ff2674e2b424b9119168092dd12365e68ad9d883",
    "button": false,
    "new_sheet": false,
    "run_control": {
     "read_only": false
    }
   },
   "outputs": [],
   "source": [
    "import numpy as np # lineer cebir\n",
    "import pandas as pd # veri işleme"
   ]
  },
  {
   "cell_type": "markdown",
   "metadata": {
    "_uuid": "2996d40561d475c2830c57cc7a5b79f3f9a46de2",
    "button": false,
    "new_sheet": false,
    "run_control": {
     "read_only": false
    }
   },
   "source": [
    "## Temel Özellikler ve Dizi Oluşturma"
   ]
  },
  {
   "cell_type": "markdown",
   "metadata": {
    "_uuid": "cea7c5bbb1000bf27817a4482f5a1b460c6e7ecb",
    "button": false,
    "new_sheet": false,
    "run_control": {
     "read_only": false
    }
   },
   "source": [
    "Burada 1 boyutlu bir dizi ve uzunluğu ise 3 olan bir dizi mevcuttur."
   ]
  },
  {
   "cell_type": "code",
   "execution_count": 2,
   "metadata": {
    "_uuid": "e674f48ab8c4282c06f2c7ab087731d5e207c1a6",
    "button": false,
    "new_sheet": false,
    "run_control": {
     "read_only": false
    }
   },
   "outputs": [
    {
     "data": {
      "text/plain": [
       "[1, 2, 3]"
      ]
     },
     "execution_count": 2,
     "metadata": {},
     "output_type": "execute_result"
    }
   ],
   "source": [
    "[1,2,3]"
   ]
  },
  {
   "cell_type": "markdown",
   "metadata": {
    "_uuid": "8de7a767363b3a783b47f66fa5e5be217f19c84b",
    "button": false,
    "new_sheet": false,
    "run_control": {
     "read_only": false
    }
   },
   "source": [
    "Aşağıda ise 2 boyutlu bir dizi ve uzunluğu ise 3 olan bir dizi mevcuttur."
   ]
  },
  {
   "cell_type": "code",
   "execution_count": 3,
   "metadata": {
    "_uuid": "75ac6b9d186ff23a564be6b48698641f29a360e2",
    "button": false,
    "new_sheet": false,
    "run_control": {
     "read_only": false
    }
   },
   "outputs": [
    {
     "data": {
      "text/plain": [
       "[[1, 2, 3], [4, 5, 6]]"
      ]
     },
     "execution_count": 3,
     "metadata": {},
     "output_type": "execute_result"
    }
   ],
   "source": [
    "[[ 1, 2, 3],[ 4, 5, 6]]"
   ]
  },
  {
   "cell_type": "markdown",
   "metadata": {
    "_uuid": "aeabb5140b0dbf9bef98b2817a4f5b180e0bba61",
    "button": false,
    "new_sheet": false,
    "run_control": {
     "read_only": false
    }
   },
   "source": [
    "NumPy dizi fonksiyonu ile iki adet farklı boyutlarda diziler oluşturalım."
   ]
  },
  {
   "cell_type": "code",
   "execution_count": 4,
   "metadata": {
    "_uuid": "aebb0040493c3eab313c247189b344f3442635a2",
    "button": false,
    "new_sheet": false,
    "run_control": {
     "read_only": false
    }
   },
   "outputs": [
    {
     "name": "stdout",
     "output_type": "stream",
     "text": [
      "a:  [1 2 3]\n",
      "b:  [[1 2 3]\n",
      " [4 5 6]]\n"
     ]
    }
   ],
   "source": [
    "a = np.array([1, 2, 3])\n",
    "b = np.array([(1,2,3), (4,5,6)])\n",
    "\n",
    "print(\"a: \",a)\n",
    "print(\"b: \",b)"
   ]
  },
  {
   "cell_type": "markdown",
   "metadata": {
    "_uuid": "aa6f0d008d44375ccbde0404138bd5a55dea31a9",
    "button": false,
    "new_sheet": false,
    "run_control": {
     "read_only": false
    }
   },
   "source": [
    "Köşeli parantezlerin burada gerekli olduğunu unutmayın. Ve aşağıdaki yazı biçimi yanlıştır:"
   ]
  },
  {
   "cell_type": "code",
   "execution_count": 5,
   "metadata": {
    "_uuid": "e41bd94cf1310d057c9f88d71edae0531762fae0",
    "button": false,
    "new_sheet": false,
    "run_control": {
     "read_only": false
    }
   },
   "outputs": [],
   "source": [
    "# a = np.array(1,2,3,4) # YANLIŞ!!!"
   ]
  },
  {
   "cell_type": "markdown",
   "metadata": {
    "_uuid": "1167c9394bd6be70a0c045d698f7009a9f117b6a",
    "button": false,
    "new_sheet": false,
    "run_control": {
     "read_only": false
    }
   },
   "source": [
    "NumPy'nin dizi sınıfının takma adı **numpy.array** olan **ndarray**, Python standart kitaplığındaki **array.array** öğesinden farklıdır. **ndarray** 'ın özellikleri aşağıdaki gibidir:\n",
    "\n",
    "* **ndarray.ndim:** dizinin kaç boyutlu olduğunu gösterir.\n",
    "* **ndarray.shape:** Uzunluğu, dizinin （ndim） boyutuna göre belirlenen bir sayı dizisidir. Örneğin, uzunluğu n olan tek boyutlu bir dizinin şekli n'dir ve n satırlı ve m sütunlu bir dizinin şekli n, m'dir.\n",
    "* **ndarray.size:** dizideki tüm öğelerin sayısı.\n",
    "* **ndarray.dtype:** dizideki elemanın veri tipi, örneğin numpy.int32, numpy.int16 veya numpy.float64.\n",
    "* **ndarray.itemsize:** dizideki her öğenin bayt cinsinden boyutu.\n",
    "\n",
    "Aşağıda bulunan kod örneğiniz inceleyelim."
   ]
  },
  {
   "cell_type": "code",
   "execution_count": 6,
   "metadata": {
    "_uuid": "dbe83d57fb5ea992077a6565ce3628531a50dbf3",
    "button": false,
    "new_sheet": false,
    "run_control": {
     "read_only": false
    }
   },
   "outputs": [
    {
     "name": "stdout",
     "output_type": "stream",
     "text": [
      "a=\n",
      "[1 2 3]\n",
      "a's ndim 1\n",
      "a's shape (3,)\n",
      "a's size 3\n",
      "a's dtype int64\n",
      "a's itemsize 8\n",
      "\n",
      "b=\n",
      "[[1 2 3]\n",
      " [4 5 6]]\n",
      "b's ndim 2\n",
      "b's shape (2, 3)\n",
      "b's size 6\n",
      "b's dtype int64\n",
      "b's itemsize 8\n"
     ]
    }
   ],
   "source": [
    "a = np.array([1, 2, 3])\n",
    "b = np.array([(1,2,3), (4,5,6)])\n",
    "\n",
    "print('a=')\n",
    "print(a)\n",
    "print(\"a's ndim {}\".format(a.ndim))\n",
    "print(\"a's shape {}\".format(a.shape))\n",
    "print(\"a's size {}\".format(a.size))\n",
    "print(\"a's dtype {}\".format(a.dtype))\n",
    "print(\"a's itemsize {}\".format(a.itemsize))\n",
    "\n",
    "print('')\n",
    "\n",
    "print('b=')\n",
    "print(b)\n",
    "print(\"b's ndim {}\".format(b.ndim))\n",
    "print(\"b's shape {}\".format(b.shape))\n",
    "print(\"b's size {}\".format(b.size))\n",
    "print(\"b's dtype {}\".format(b.dtype))\n",
    "print(\"b's itemsize {}\".format(b.itemsize))"
   ]
  },
  {
   "cell_type": "markdown",
   "metadata": {
    "_uuid": "eafdd6863a8e825a9aa950913384498fa54c80ca",
    "button": false,
    "new_sheet": false,
    "run_control": {
     "read_only": false
    }
   },
   "source": [
    "Diziyi oluştururken elemanın veri tipini de belirtebiliriz, örneğin:"
   ]
  },
  {
   "cell_type": "code",
   "execution_count": 7,
   "metadata": {
    "_uuid": "a1aef2d7545dc40ae13b82f7d23ebb21587111e1",
    "button": false,
    "new_sheet": false,
    "run_control": {
     "read_only": false
    }
   },
   "outputs": [
    {
     "data": {
      "text/plain": [
       "array([[1.+0.j, 2.+0.j],\n",
       "       [3.+0.j, 4.+0.j]])"
      ]
     },
     "execution_count": 7,
     "metadata": {},
     "output_type": "execute_result"
    }
   ],
   "source": [
    "c = np.array( [ [1,2], [3,4] ], dtype=complex )\n",
    "c"
   ]
  },
  {
   "cell_type": "markdown",
   "metadata": {},
   "source": [
    "## Belirli Bir Dizi Oluşturma"
   ]
  },
  {
   "cell_type": "markdown",
   "metadata": {
    "_uuid": "13627c7fab3119daf7be184a0f42f8ed60a2f40f",
    "button": false,
    "new_sheet": false,
    "run_control": {
     "read_only": false
    }
   },
   "source": [
    "Mühendislikte, genellikle belirli veri türlerine ihtiyaç duyarız ve NumPy bize bunları sağlar:\n",
    "\n",
    "* **zeros:** elemanları 0 olan bir dizi oluşturmak için kullanılır\n",
    "* **ones:** elemanları 1 olan bir dizi oluşturmak için kullanılır\n",
    "* **empty:** boş bir dizi oluşturmak için kullanılır.\n",
    "* **arange:** kapsam ve rakam aralığı belirleyerek bir dizi oluşturmak için kullanılır.\n",
    "* **linespace:** aralığı ve öğe sayısını belirterek bir dizi oluşturmak için kullanılır.\n",
    "* **random:** rastgele sayılar üretmek için kullanılır"
   ]
  },
  {
   "cell_type": "code",
   "execution_count": 8,
   "metadata": {
    "_uuid": "efc52c4adbc234364c5e4aae77a207387c5b941c",
    "button": false,
    "new_sheet": false,
    "run_control": {
     "read_only": false
    }
   },
   "outputs": [
    {
     "name": "stdout",
     "output_type": "stream",
     "text": [
      "np.zeros((2,3)= \n",
      "[[0. 0. 0.]\n",
      " [0. 0. 0.]]\n",
      "\n",
      "np.ones((2,3))= \n",
      "[[1. 1. 1.]\n",
      " [1. 1. 1.]]\n",
      "\n",
      "np.empty((2,3))= \n",
      "[[1. 1. 1.]\n",
      " [1. 1. 1.]]\n",
      "\n",
      "np.arange(1, 2, 0.3)= \n",
      "[1.  1.3 1.6 1.9]\n",
      "\n",
      "np.linspace(1, 2, 7)= \n",
      "[1.         1.16666667 1.33333333 1.5        1.66666667 1.83333333\n",
      " 2.        ]\n",
      "\n",
      "np.random.random((2,3))= \n",
      "[[0.13767128 0.90433798 0.39300773]\n",
      " [0.89677942 0.56711353 0.52187677]]\n",
      "\n"
     ]
    }
   ],
   "source": [
    "a = np.zeros((2,3))\n",
    "print('np.zeros((2,3)= \\n{}\\n'.format(a))\n",
    "\n",
    "b = np.ones((2,3))\n",
    "print('np.ones((2,3))= \\n{}\\n'.format(b))\n",
    "\n",
    "c = np.empty((2,3))\n",
    "print('np.empty((2,3))= \\n{}\\n'.format(c))\n",
    "\n",
    "d = np.arange(1, 2, 0.3)\n",
    "print('np.arange(1, 2, 0.3)= \\n{}\\n'.format(d))\n",
    "\n",
    "e = np.linspace(1, 2, 7)\n",
    "print('np.linspace(1, 2, 7)= \\n{}\\n'.format(e))\n",
    "\n",
    "f = np.random.random((2,3))\n",
    "print('np.random.random((2,3))= \\n{}\\n'.format(f))"
   ]
  },
  {
   "cell_type": "markdown",
   "metadata": {},
   "source": [
    "## Boyut ve Fonksiyonlar"
   ]
  },
  {
   "cell_type": "markdown",
   "metadata": {
    "_uuid": "fd4eef4ed6dcb4a0e3041b235d3d2461e66b817f",
    "button": false,
    "new_sheet": false,
    "run_control": {
     "read_only": false
    }
   },
   "source": [
    "Bir dizi oluşturmaya ek olarak, bazı verileri tuttuktan sonra, mevcut diziyi temel alan bazı yeni veri yapıları oluşturmamız gerekebilir. Bu durumda, aşağıdaki işlevleri kullanabiliriz:\n",
    "\n",
    "* **reshape:** varolan diziye ve belirtilen şekle dayalı yeni bir dizi oluşturmak için kullanılır.\n",
    "* **vstack:** birden çok diziyi dikey yönde konumlandırmak için kullanılır (dizinin boyutları aynı olmalıdır).\n",
    "* **hstack:** Birden çok diziyi yatay yönde konumlandırmak için kullanılır (dizinin boyutları aynı olmalıdır).\n",
    "* **hsplit:** diziyi yatay olarak bölmek için kullanılır.\n",
    "* **vsplit:** diziyi dikey olarak bölmek için kullanılır.\n",
    "\n",
    "We'll use some examples to illustrate.\n",
    "\n",
    "Test amaçlı birkaç veri oluşturalım.\n",
    "\n",
    "* **zero_line:** üç tane sıfır içeren ve bir satırı bulunan bir dizi\n",
    "* **one_column:** üç tane bir içeren ve bir sütunu bulunan bir dizi\n",
    "* **a:** iki satır ve üç sütun içeren bir matris.\n",
    "* **b:** [11,20] aralığında bir tamsayı dizisi."
   ]
  },
  {
   "cell_type": "code",
   "execution_count": 9,
   "metadata": {
    "_uuid": "183a876e8c1fb4a04fcdebb5fe5f80357f2c6455",
    "button": false,
    "new_sheet": false,
    "run_control": {
     "read_only": false
    }
   },
   "outputs": [
    {
     "name": "stdout",
     "output_type": "stream",
     "text": [
      "zero_line = \n",
      "[[0. 0. 0.]]\n",
      "\n",
      "one_column = \n",
      "[[1.]\n",
      " [1.]\n",
      " [1.]]\n",
      "\n",
      "a = \n",
      "[[1 2 3]\n",
      " [4 5 6]]\n",
      "\n",
      "b = \n",
      "[11 12 13 14 15 16 17 18 19]\n",
      "\n"
     ]
    }
   ],
   "source": [
    "zero_line = np.zeros((1,3))\n",
    "one_column = np.ones((3,1))\n",
    "print(\"zero_line = \\n{}\\n\".format(zero_line))\n",
    "print(\"one_column = \\n{}\\n\".format(one_column))\n",
    "\n",
    "a = np.array([(1,2,3), (4,5,6)])\n",
    "b = np.arange(11, 20)\n",
    "print(\"a = \\n{}\\n\".format(a))\n",
    "print(\"b = \\n{}\\n\".format(b))"
   ]
  },
  {
   "cell_type": "markdown",
   "metadata": {
    "_uuid": "965b93ea00a0024b9e8820d5bf3d802e9e7e29f9",
    "button": false,
    "new_sheet": false,
    "run_control": {
     "read_only": false
    }
   },
   "source": [
    "B dizisi başlangıçta tek boyutlu bir dizidir ve yeniden şekillendirme yöntemiyle 3 satırlık ve 3 sütunluk bir matris haline dönüştürdük."
   ]
  },
  {
   "cell_type": "code",
   "execution_count": 10,
   "metadata": {
    "_uuid": "4d505f232ce6286451728e4f85b12d9bdde64654",
    "button": false,
    "new_sheet": false,
    "run_control": {
     "read_only": false
    }
   },
   "outputs": [
    {
     "name": "stdout",
     "output_type": "stream",
     "text": [
      "b.reshape(3, -1) = \n",
      "[[11 12 13]\n",
      " [14 15 16]\n",
      " [17 18 19]]\n",
      "\n"
     ]
    }
   ],
   "source": [
    "b = b.reshape(3, -1)\n",
    "print(\"b.reshape(3, -1) = \\n{}\\n\".format(b))"
   ]
  },
  {
   "cell_type": "markdown",
   "metadata": {
    "_uuid": "54983a9eb06f0696c16e154aa9dc82b10694c9af",
    "button": false,
    "new_sheet": false,
    "run_control": {
     "read_only": false
    }
   },
   "source": [
    "Buradaki ikinci parametre -1 olarak ayarlanır, bu da gerçek koşullara göre otomatik olarak belirleneceği anlamına gelir. Dizi aslen 9 element içerdiğinden, yeniden boyutlandırıldıktan sonraki matris 3X3'tür. Kod çıkışı aşağıdaki gibidir:"
   ]
  },
  {
   "cell_type": "code",
   "execution_count": 11,
   "metadata": {
    "_uuid": "734fb79e97a046f2af59d1baf28cebcda11b7c98",
    "button": false,
    "new_sheet": false,
    "run_control": {
     "read_only": false
    }
   },
   "outputs": [
    {
     "data": {
      "text/plain": [
       "array([[11, 12, 13],\n",
       "       [14, 15, 16],\n",
       "       [17, 18, 19]])"
      ]
     },
     "execution_count": 11,
     "metadata": {},
     "output_type": "execute_result"
    }
   ],
   "source": [
    "b.reshape(3, -1)"
   ]
  },
  {
   "cell_type": "markdown",
   "metadata": {
    "_uuid": "a78d85d3cc1a16f67c4d1df518064d9f6655a9d0",
    "button": false,
    "new_sheet": false,
    "run_control": {
     "read_only": false
    }
   },
   "source": [
    "Ardından, üç diziyi vstack işlevi aracılığıyla dikey olarak tutacağız:"
   ]
  },
  {
   "cell_type": "code",
   "execution_count": 12,
   "metadata": {
    "_uuid": "0b792ff88126b66792f6d9cd7231935391a449ac",
    "button": false,
    "new_sheet": false,
    "run_control": {
     "read_only": false
    }
   },
   "outputs": [
    {
     "name": "stdout",
     "output_type": "stream",
     "text": [
      "c = np.vstack((a,b, zero_line)) = \n",
      "[[ 1.  2.  3.]\n",
      " [ 4.  5.  6.]\n",
      " [11. 12. 13.]\n",
      " [14. 15. 16.]\n",
      " [17. 18. 19.]\n",
      " [ 0.  0.  0.]]\n",
      "\n"
     ]
    }
   ],
   "source": [
    "c = np.vstack((a, b, zero_line))\n",
    "print(\"c = np.vstack((a,b, zero_line)) = \\n{}\\n\".format(c))"
   ]
  },
  {
   "cell_type": "markdown",
   "metadata": {
    "_uuid": "ebe627c6bcccc9bcc539ab5016ee41d918970782",
    "button": false,
    "new_sheet": false,
    "run_control": {
     "read_only": false
    }
   },
   "source": [
    "Benzer şekilde, hstack'ı yatay işlemi için de kullanabiliriz. Bu sefer ilk önce dizinin yapısını ayarlamamız gerekiyor:"
   ]
  },
  {
   "cell_type": "code",
   "execution_count": 13,
   "metadata": {
    "_uuid": "741a43b359a2c9d749f8de79cabbb5c9a8424e4e",
    "button": false,
    "new_sheet": false,
    "run_control": {
     "read_only": false
    }
   },
   "outputs": [
    {
     "name": "stdout",
     "output_type": "stream",
     "text": [
      "a.reshape(3, 2) = \n",
      "[[1 2]\n",
      " [3 4]\n",
      " [5 6]]\n",
      "\n",
      "d = np.hstack((a,b, one_column)) = \n",
      "[[ 1.  2. 11. 12. 13.  1.]\n",
      " [ 3.  4. 14. 15. 16.  1.]\n",
      " [ 5.  6. 17. 18. 19.  1.]]\n",
      "\n"
     ]
    }
   ],
   "source": [
    "a = a.reshape(3, 2)\n",
    "print(\"a.reshape(3, 2) = \\n{}\\n\".format(a))\n",
    "\n",
    "d = np.hstack((a, b, one_column))\n",
    "print(\"d = np.hstack((a,b, one_column)) = \\n{}\\n\".format(d))"
   ]
  },
  {
   "cell_type": "markdown",
   "metadata": {
    "_uuid": "da72cee4b256e82e012acd360bde444f24753bb5",
    "button": false,
    "new_sheet": false,
    "run_control": {
     "read_only": false
    }
   },
   "source": [
    "Sonra, ayırma işlemine bir göz atalım. İlk önce d dizisini yatay yönde üç diziye böldük."
   ]
  },
  {
   "cell_type": "code",
   "execution_count": 14,
   "metadata": {
    "_uuid": "49410d8c4a2de4401e68ae9482a04dcedf0fb255",
    "button": false,
    "new_sheet": false,
    "run_control": {
     "read_only": false
    }
   },
   "outputs": [
    {
     "name": "stdout",
     "output_type": "stream",
     "text": [
      "e = np.hsplit(d, 3) = \n",
      "[array([[1., 2.],\n",
      "       [3., 4.],\n",
      "       [5., 6.]]), array([[11., 12.],\n",
      "       [14., 15.],\n",
      "       [17., 18.]]), array([[13.,  1.],\n",
      "       [16.,  1.],\n",
      "       [19.,  1.]])]\n",
      "\n",
      "e[1] = \n",
      "[[11. 12.]\n",
      " [14. 15.]\n",
      " [17. 18.]]\n",
      "\n"
     ]
    }
   ],
   "source": [
    "e = np.hsplit(d, 3)\n",
    "print(\"e = np.hsplit(d, 3) = \\n{}\\n\".format(e))\n",
    "print(\"e[1] = \\n{}\\n\".format(e[1]))"
   ]
  },
  {
   "cell_type": "markdown",
   "metadata": {
    "_uuid": "850665290468de42b4600b8ada00106bfbde0fd6",
    "button": false,
    "new_sheet": false,
    "run_control": {
     "read_only": false
    }
   },
   "source": [
    "Diziyi eşit olarak bölmek için sayı belirlemeye ek olarak, bölünecek sütun sayısını da belirtebiliriz. Aşağıdaki, d dizisini ilk sütundan ve üçüncü sütundan bölme işlemini gerçekleştiriyoruz."
   ]
  },
  {
   "cell_type": "code",
   "execution_count": 15,
   "metadata": {
    "_uuid": "83c2e07835fad242fa05bfc21bb5c1933f98b630",
    "button": false,
    "new_sheet": false,
    "run_control": {
     "read_only": false
    }
   },
   "outputs": [
    {
     "name": "stdout",
     "output_type": "stream",
     "text": [
      "f = np.hsplit(d, (1, 3)) = \n",
      "[array([[1.],\n",
      "       [3.],\n",
      "       [5.]]), array([[ 2., 11.],\n",
      "       [ 4., 14.],\n",
      "       [ 6., 17.]]), array([[12., 13.,  1.],\n",
      "       [15., 16.,  1.],\n",
      "       [18., 19.,  1.]])]\n",
      "\n"
     ]
    }
   ],
   "source": [
    "f = np.hsplit(d, (1, 3))\n",
    "print(\"f = np.hsplit(d, (1, 3)) = \\n{}\\n\".format(f))"
   ]
  },
  {
   "cell_type": "markdown",
   "metadata": {
    "_uuid": "cd147a6ef41ef2e15d1001cc324d41193ec055ad",
    "button": false,
    "new_sheet": false,
    "run_control": {
     "read_only": false
    }
   },
   "source": [
    "Son olarak, d dizisini dikey yönde böldük. Benzer şekilde, belirtilen sayı dizisinin eşit şekilde bölünmesini sağlayamayız çünkü boyutları eşit değil."
   ]
  },
  {
   "cell_type": "code",
   "execution_count": 16,
   "metadata": {
    "_uuid": "12eb3db4e0596f056b5ee4314d57ca5e67ad3106",
    "button": false,
    "new_sheet": false,
    "run_control": {
     "read_only": false
    }
   },
   "outputs": [
    {
     "name": "stdout",
     "output_type": "stream",
     "text": [
      "np.hsplit(d, 2) = \n",
      "[array([[ 1.,  2., 11., 12., 13.,  1.]]), array([[ 3.,  4., 14., 15., 16.,  1.]]), array([[ 5.,  6., 17., 18., 19.,  1.]])]\n",
      "\n"
     ]
    }
   ],
   "source": [
    "g = np.vsplit(d, 3)\n",
    "print(\"np.hsplit(d, 2) = \\n{}\\n\".format(g))\n",
    "\n",
    "# np.vsplit(d, 2) # ValueError: array split does not result in an equal division"
   ]
  },
  {
   "cell_type": "markdown",
   "metadata": {},
   "source": [
    "## İndeks"
   ]
  },
  {
   "cell_type": "markdown",
   "metadata": {
    "_uuid": "1860b6716e3db57b6d302afdd6f68edb608c23f3",
    "button": false,
    "new_sheet": false,
    "run_control": {
     "read_only": false
    }
   },
   "source": [
    "NumPy dizisindeki verilere nasıl erişildiğine bakalım.\n",
    "\n",
    "Yine, test için bir boyutlu bir dizi oluşturalım. İçeriği [100,200) aralığında bir tamsayıdır.\n",
    "\n",
    "Basit bir şekilde verilere erişebilmemiz için array_adi[indis numarası] yapısını kullanacağız."
   ]
  },
  {
   "cell_type": "code",
   "execution_count": 17,
   "metadata": {
    "_uuid": "50f45c6c7e780069549a2e186f5cb705d46d685a",
    "button": false,
    "new_sheet": false,
    "run_control": {
     "read_only": false
    }
   },
   "outputs": [
    {
     "name": "stdout",
     "output_type": "stream",
     "text": [
      "base_data\n",
      "=[100 101 102 103 104 105 106 107 108 109 110 111 112 113 114 115 116 117\n",
      " 118 119 120 121 122 123 124 125 126 127 128 129 130 131 132 133 134 135\n",
      " 136 137 138 139 140 141 142 143 144 145 146 147 148 149 150 151 152 153\n",
      " 154 155 156 157 158 159 160 161 162 163 164 165 166 167 168 169 170 171\n",
      " 172 173 174 175 176 177 178 179 180 181 182 183 184 185 186 187 188 189\n",
      " 190 191 192 193 194 195 196 197 198 199]\n",
      "\n",
      "base_data[10] = 110\n",
      "\n"
     ]
    }
   ],
   "source": [
    "base_data = np.arange(100, 200)\n",
    "print(\"base_data\\n={}\\n\".format(base_data))\n",
    "\n",
    "print(\"base_data[10] = {}\\n\".format(base_data[10]))"
   ]
  },
  {
   "cell_type": "markdown",
   "metadata": {
    "_uuid": "9f51fb2baca7b095cb14d63d096733c536076dc0",
    "button": false,
    "new_sheet": false,
    "run_control": {
     "read_only": false
    }
   },
   "source": [
    "NumPy'da daha önceden oluşturduğumuz bir dizi için filtreleme işlemini gerçekleştirebiliriz. Burada beş ve beşin katı olan sayılar getirildi."
   ]
  },
  {
   "cell_type": "code",
   "execution_count": 18,
   "metadata": {
    "_uuid": "99408ffa558ae8b9332aa9753c3dc8d1c119f681",
    "button": false,
    "new_sheet": false,
    "run_control": {
     "read_only": false
    }
   },
   "outputs": [
    {
     "name": "stdout",
     "output_type": "stream",
     "text": [
      "base_data[every_five] = \n",
      "[100 105 110 115 120 125 130 135 140 145 150 155 160 165 170 175 180 185\n",
      " 190 195]\n",
      "\n"
     ]
    }
   ],
   "source": [
    "every_five = np.arange(0, 100, 5)\n",
    "print(\"base_data[every_five] = \\n{}\\n\".format(\n",
    "    base_data[every_five]))"
   ]
  },
  {
   "cell_type": "code",
   "execution_count": 19,
   "metadata": {
    "_uuid": "d434066f61772de0c12e6fd8c3c7eb94852ccfb7",
    "button": false,
    "new_sheet": false,
    "run_control": {
     "read_only": false
    }
   },
   "outputs": [
    {
     "name": "stdout",
     "output_type": "stream",
     "text": [
      "a = \n",
      "[[ 1  2]\n",
      " [10 20]]\n",
      "\n",
      "base_data[a] = \n",
      "[[101 102]\n",
      " [110 120]]\n",
      "\n"
     ]
    }
   ],
   "source": [
    "a = np.array([(1,2), (10,20)])\n",
    "print(\"a = \\n{}\\n\".format(a))\n",
    "print(\"base_data[a] = \\n{}\\n\".format(base_data[a]))"
   ]
  },
  {
   "cell_type": "markdown",
   "metadata": {
    "_uuid": "7dd58d1c2c948be7a0e8c0bbd9e586011c44cbe3",
    "button": false,
    "new_sheet": false,
    "run_control": {
     "read_only": false
    }
   },
   "source": [
    "Yukarıda 2X2 boyutunda olan çıktıyı 10X10 boyutunda aşağıdaki gibi elde ediyoruz."
   ]
  },
  {
   "cell_type": "code",
   "execution_count": 20,
   "metadata": {
    "_uuid": "8a1576f10685c5e37d796f7350b4687123132491",
    "button": false,
    "new_sheet": false,
    "run_control": {
     "read_only": false
    }
   },
   "outputs": [
    {
     "name": "stdout",
     "output_type": "stream",
     "text": [
      "base_data2 = np.reshape(base_data, (10, -1)) = \n",
      "[[100 101 102 103 104 105 106 107 108 109]\n",
      " [110 111 112 113 114 115 116 117 118 119]\n",
      " [120 121 122 123 124 125 126 127 128 129]\n",
      " [130 131 132 133 134 135 136 137 138 139]\n",
      " [140 141 142 143 144 145 146 147 148 149]\n",
      " [150 151 152 153 154 155 156 157 158 159]\n",
      " [160 161 162 163 164 165 166 167 168 169]\n",
      " [170 171 172 173 174 175 176 177 178 179]\n",
      " [180 181 182 183 184 185 186 187 188 189]\n",
      " [190 191 192 193 194 195 196 197 198 199]]\n",
      "\n"
     ]
    }
   ],
   "source": [
    "base_data2 = base_data.reshape(10, -1)\n",
    "print(\"base_data2 = np.reshape(base_data, (10, -1)) = \\n{}\\n\".format(base_data2))"
   ]
  },
  {
   "cell_type": "markdown",
   "metadata": {
    "_uuid": "f3f6be4a7fd80a1fee342b3b8c22dbc07b6979f1",
    "button": false,
    "new_sheet": false,
    "run_control": {
     "read_only": false
    }
   },
   "source": [
    "İki boyutlu bir dizi için,\n",
    "\n",
    "* Eğer sadece satır belirtirsek sadece o satırda bulunan elemanlar gelir.\n",
    "* Eğer hem satır hem de sütun belirtirsek sadece belirtilen eleman gelir.\n",
    "* Son öğeye \"-1\" ile erişebiliriz."
   ]
  },
  {
   "cell_type": "code",
   "execution_count": 21,
   "metadata": {
    "_uuid": "c0808ae64994a8ddc782e048de38fc91ded514cd",
    "button": false,
    "new_sheet": false,
    "run_control": {
     "read_only": false
    }
   },
   "outputs": [
    {
     "name": "stdout",
     "output_type": "stream",
     "text": [
      "base_data2[2] = \n",
      "[120 121 122 123 124 125 126 127 128 129]\n",
      "\n",
      "base_data2[2, 3] = \n",
      "123\n",
      "\n",
      "base_data2[-1, -1] = \n",
      "199\n",
      "\n"
     ]
    }
   ],
   "source": [
    "print(\"base_data2[2] = \\n{}\\n\".format(base_data2[2]))\n",
    "print(\"base_data2[2, 3] = \\n{}\\n\".format(base_data2[2, 3]))\n",
    "print(\"base_data2[-1, -1] = \\n{}\\n\".format(base_data2[-1, -1]))"
   ]
  },
  {
   "cell_type": "markdown",
   "metadata": {
    "_uuid": "697c271a0333c44ba183195e79569e473c1e5b4d",
    "button": false,
    "new_sheet": false,
    "run_control": {
     "read_only": false
    }
   },
   "source": [
    "Ek olarak, kapsamı \":\" ile belirtebiliriz, örneğin: 2:5. Yalnızca \":\" yazmak tam kapsamı belirtir.\n",
    "\n",
    "Lütfen aşağıdaki kodu inceleyin:\n",
    "\n",
    "* ikinci satırın tüm elemanlarını getir.\n",
    "* üçüncü sütunun bütün elemanlarını getir.\n",
    "* satır numarası iki olan ve sütun numarası beş olan ve aynı zamanda satır numarası iki olan ve sütun numarası beş olan elemanları getir."
   ]
  },
  {
   "cell_type": "code",
   "execution_count": 22,
   "metadata": {
    "_uuid": "d815b60dafc48b9bc6752bab52e380fc255b7912",
    "button": false,
    "new_sheet": false,
    "run_control": {
     "read_only": false
    }
   },
   "outputs": [
    {
     "name": "stdout",
     "output_type": "stream",
     "text": [
      "base_data2[2, :]] = \n",
      "[120 121 122 123 124 125 126 127 128 129]\n",
      "\n",
      "base_data2[:, 3]] = \n",
      "[103 113 123 133 143 153 163 173 183 193]\n",
      "\n",
      "base_data2[2:5, 2:4]] = \n",
      "[[122 123]\n",
      " [132 133]\n",
      " [142 143]]\n",
      "\n"
     ]
    }
   ],
   "source": [
    "print(\"base_data2[2, :]] = \\n{}\\n\".format(base_data2[2, :]))\n",
    "print(\"base_data2[:, 3]] = \\n{}\\n\".format(base_data2[:, 3]))\n",
    "print(\"base_data2[2:5, 2:4]] = \\n{}\\n\".format(base_data2[2:5, 2:4]))"
   ]
  },
  {
   "cell_type": "markdown",
   "metadata": {
    "_uuid": "6392e02699f97abb3b2a92d8f43461121b1ac3e1",
    "button": false,
    "new_sheet": false,
    "run_control": {
     "read_only": false
    }
   },
   "source": [
    "## Matematiksel İşlevler"
   ]
  },
  {
   "cell_type": "markdown",
   "metadata": {
    "_uuid": "b2916d268046ecc168235673b101b48935086d0b",
    "button": false,
    "new_sheet": false,
    "run_control": {
     "read_only": false
    }
   },
   "source": [
    "NumPy'de ayrıca birçok matematiksel işlev mevcuttur. İşte bazı örnekler;"
   ]
  },
  {
   "cell_type": "code",
   "execution_count": 23,
   "metadata": {
    "_uuid": "7bbef723ae17c3b93003964cd0f81346dbc67670",
    "button": false,
    "new_sheet": false,
    "run_control": {
     "read_only": false
    }
   },
   "outputs": [
    {
     "name": "stdout",
     "output_type": "stream",
     "text": [
      "base_data = \n",
      "[[-24.02118448  38.70903889 -34.35956793  31.15984863 -16.3851276 ]\n",
      " [ 18.00896965  40.12647579 -18.77313246 -19.6817189   49.0027422 ]\n",
      " [ 36.18306188 -44.80584945 -37.19340083 -34.07989665  -4.8155779 ]\n",
      " [  8.98118218   0.67046207  -2.53116377 -29.06968423   7.50321075]\n",
      " [ -9.03445665 -19.03624479 -48.60902452 -14.77772175  -7.25167879]]\n",
      "\n",
      "np.amin(base_data) = -48.60902452032344\n",
      "np.amax(base_data) = 49.00274219960913\n",
      "np.average(base_data) = -5.363217545890414\n",
      "np.sum(base_data) = -134.08043864726037\n",
      "np.sin(base_data) = \n",
      "[[ 0.89638983  0.84679304 -0.19666101 -0.25328831  0.62658556]\n",
      " [-0.7450343   0.65503482  0.07634909 -0.73938939 -0.95292478]\n",
      " [-0.99850179 -0.73356466  0.48442958 -0.45966907  0.99468075]\n",
      " [ 0.42918999  0.6213481  -0.57321894  0.71410891  0.9391081 ]\n",
      " [-0.38048558 -0.18560632  0.99633329 -0.80176431 -0.82403314]]\n"
     ]
    }
   ],
   "source": [
    "base_data = (np.random.random((5, 5)) - 0.5) * 100\n",
    "print(\"base_data = \\n{}\\n\".format(base_data))\n",
    "\n",
    "print(\"np.amin(base_data) = {}\".format(np.amin(base_data)))\n",
    "print(\"np.amax(base_data) = {}\".format(np.amax(base_data)))\n",
    "print(\"np.average(base_data) = {}\".format(np.average(base_data)))\n",
    "print(\"np.sum(base_data) = {}\".format(np.sum(base_data)))\n",
    "print(\"np.sin(base_data) = \\n{}\".format(np.sin(base_data)))"
   ]
  },
  {
   "cell_type": "code",
   "execution_count": 24,
   "metadata": {
    "_uuid": "f0509daea35041de88510b1f1caa0ea709437ecd"
   },
   "outputs": [
    {
     "name": "stdout",
     "output_type": "stream",
     "text": [
      "Multpiles:  [  1   4   9  16  25  36  49  64  81 100 121 144 169 196 225 256 289 324\n",
      " 361]\n",
      "Substracts:  [0 0 0 0 0 0 0 0 0 0 0 0 0 0 0 0 0 0 0]\n",
      "Add:  [ 2  4  6  8 10 12 14 16 18 20 22 24 26 28 30 32 34 36 38]\n",
      "Divide:  [1. 1. 1. 1. 1. 1. 1. 1. 1. 1. 1. 1. 1. 1. 1. 1. 1. 1. 1.]\n",
      "Add +50:  [51 52 53 54 55 56 57 58 59 60 61 62 63 64 65 66 67 68 69]\n"
     ]
    }
   ],
   "source": [
    "arr = np.arange(1,20)\n",
    "arr = arr * arr              #Her eleman kendisi ile çarpılacak\n",
    "print(\"Multpiles: \",arr)\n",
    "arr = arr - arr              #Her eleman kendisinden çıkarılacak\n",
    "print(\"Substracts: \",arr)\n",
    "arr = np.arange(1,20)\n",
    "arr = arr + arr              #Her eleman kendisi ile toplanacak\n",
    "print(\"Add: \",arr)\n",
    "arr = arr / arr              #Her eleman kendisine bölünecek\n",
    "print(\"Divide: \",arr)\n",
    "arr = np.arange(1,20)\n",
    "arr = arr + 50\n",
    "print(\"Add +50: \",arr)"
   ]
  },
  {
   "cell_type": "code",
   "execution_count": 25,
   "metadata": {
    "_uuid": "f1102309d7542af1da3aa05bd4b90f03385347a7"
   },
   "outputs": [
    {
     "name": "stdout",
     "output_type": "stream",
     "text": [
      "Sqrt:  [7.14142843 7.21110255 7.28010989 7.34846923 7.41619849 7.48331477\n",
      " 7.54983444 7.61577311 7.68114575 7.74596669 7.81024968 7.87400787\n",
      " 7.93725393 8.         8.06225775 8.1240384  8.18535277 8.24621125\n",
      " 8.30662386]\n",
      "Exp:  [1.40934908e+22 3.83100800e+22 1.04137594e+23 2.83075330e+23\n",
      " 7.69478527e+23 2.09165950e+24 5.68572000e+24 1.54553894e+25\n",
      " 4.20121040e+25 1.14200739e+26 3.10429794e+26 8.43835667e+26\n",
      " 2.29378316e+27 6.23514908e+27 1.69488924e+28 4.60718663e+28\n",
      " 1.25236317e+29 3.40427605e+29 9.25378173e+29]\n",
      "Sin:  [ 0.67022918  0.98662759  0.39592515 -0.55878905 -0.99975517 -0.521551\n",
      "  0.43616476  0.99287265  0.63673801 -0.30481062 -0.96611777 -0.7391807\n",
      "  0.1673557   0.92002604  0.82682868 -0.02655115 -0.85551998 -0.89792768\n",
      " -0.11478481]\n",
      "Cos:  [ 0.7421542  -0.16299078 -0.91828279 -0.82930983  0.02212676  0.85322011\n",
      "  0.89986683  0.11918014 -0.77108022 -0.95241298 -0.25810164  0.67350716\n",
      "  0.98589658  0.39185723 -0.56245385 -0.99964746 -0.5177698   0.44014302\n",
      "  0.99339038]\n",
      "Log:  [3.93182563 3.95124372 3.97029191 3.98898405 4.00733319 4.02535169\n",
      " 4.04305127 4.06044301 4.07753744 4.09434456 4.11087386 4.12713439\n",
      " 4.14313473 4.15888308 4.17438727 4.18965474 4.20469262 4.21950771\n",
      " 4.2341065 ]\n",
      "Sum:  1140\n",
      "Std:  5.477225575051661\n"
     ]
    }
   ],
   "source": [
    "print(\"Sqrt: \",np.sqrt(arr))   #Her elemanın karekökü alınacak\n",
    "print(\"Exp: \",np.exp(arr))     #Her elemanın üsteli alınacak\n",
    "print(\"Sin: \",np.sin(arr))     #Her elemanın sin değeri alınacak\n",
    "print(\"Cos: \",np.cos(arr))     #Her elemanın kosinüs değeri alınacak\n",
    "print(\"Log: \",np.log(arr))     #Her elemanın logaritması alınacak\n",
    "print(\"Sum: \",np.sum(arr))     #Dizideki bütün elemanların toplamı\n",
    "print(\"Std: \",np.std(arr))     #Dizinin standart sapma değeri"
   ]
  },
  {
   "cell_type": "markdown",
   "metadata": {},
   "source": [
    "## Matris"
   ]
  },
  {
   "cell_type": "markdown",
   "metadata": {
    "_uuid": "3fb98eb74a3551366c1a53f772398c12ebd7495c",
    "button": false,
    "new_sheet": false,
    "run_control": {
     "read_only": false
    }
   },
   "source": [
    "Şimdi, NumPy'nin matris şeklinde nasıl kullanılacağına bakalım.\n",
    "\n",
    "İlk önce 5X5 boyutunda rastgele bir tamsayı matrisi oluşturalım. Bir matrisin transpoze elde edilmesinin iki yolu vardır: **.T** veya **transpose** fonksiyonu. Ek olarak, matris **nokta** işlevi ile çarpılabilir. Örnek kod aşağıdaki gibidir:"
   ]
  },
  {
   "cell_type": "code",
   "execution_count": 26,
   "metadata": {
    "_uuid": "90e3bbc6a73de40f270d3e5ef24826b25b5c2d04",
    "button": false,
    "new_sheet": false,
    "run_control": {
     "read_only": false
    }
   },
   "outputs": [
    {
     "name": "stdout",
     "output_type": "stream",
     "text": [
      "base_data = \n",
      "[[ -6.  33. -15.  22.  36.]\n",
      " [-35. -22. -45.  -5. -48.]\n",
      " [-35.   9.  42.  43. -26.]\n",
      " [ 46.  30.  41. -22. -18.]\n",
      " [ 20.  17. -15.  18. -34.]]\n",
      "\n",
      "base_data.T = \n",
      "[[ -6. -35. -35.  46.  20.]\n",
      " [ 33. -22.   9.  30.  17.]\n",
      " [-15. -45.  42.  41. -15.]\n",
      " [ 22.  -5.  43. -22.  18.]\n",
      " [ 36. -48. -26. -18. -34.]]\n",
      "\n",
      "base_data.transpose() = \n",
      "[[ -6. -35. -35.  46.  20.]\n",
      " [ 33. -22.   9.  30.  17.]\n",
      " [-15. -45.  42.  41. -15.]\n",
      " [ 22.  -5.  43. -22.  18.]\n",
      " [ 36. -48. -26. -18. -34.]]\n",
      "\n",
      "matrix_one = \n",
      "[[1. 1. 1. 1. 1.]\n",
      " [1. 1. 1. 1. 1.]\n",
      " [1. 1. 1. 1. 1.]\n",
      " [1. 1. 1. 1. 1.]\n",
      " [1. 1. 1. 1. 1.]]\n",
      "\n",
      "minus_one = \n",
      "[[-1. -1. -1. -1. -1.]\n",
      " [-1. -1. -1. -1. -1.]\n",
      " [-1. -1. -1. -1. -1.]\n",
      " [-1. -1. -1. -1. -1.]\n",
      " [-1. -1. -1. -1. -1.]]\n",
      "\n",
      "np.dot(base_data, minus_one) = \n",
      "[[-70. -70. -70. -70. -70.]\n",
      " [155. 155. 155. 155. 155.]\n",
      " [-33. -33. -33. -33. -33.]\n",
      " [-77. -77. -77. -77. -77.]\n",
      " [ -6.  -6.  -6.  -6.  -6.]]\n",
      "\n"
     ]
    }
   ],
   "source": [
    "base_data = np.floor((np.random.random((5, 5)) - 0.5) * 100)\n",
    "print(\"base_data = \\n{}\\n\".format(base_data))\n",
    "\n",
    "print(\"base_data.T = \\n{}\\n\".format(base_data.T))\n",
    "print(\"base_data.transpose() = \\n{}\\n\".format(base_data.transpose()))\n",
    "\n",
    "matrix_one = np.ones((5, 5))\n",
    "print(\"matrix_one = \\n{}\\n\".format(matrix_one))\n",
    "\n",
    "minus_one = np.dot(matrix_one, -1)\n",
    "print(\"minus_one = \\n{}\\n\".format(minus_one))\n",
    "\n",
    "print(\"np.dot(base_data, minus_one) = \\n{}\\n\".format(\n",
    "    np.dot(base_data, minus_one)))"
   ]
  },
  {
   "cell_type": "markdown",
   "metadata": {},
   "source": [
    "## Rastgele Sayı Üretmek"
   ]
  },
  {
   "cell_type": "markdown",
   "metadata": {
    "_uuid": "0395dea256448fda62ac24ec0f2ac755afff1689",
    "button": false,
    "new_sheet": false,
    "run_control": {
     "read_only": false
    }
   },
   "source": [
    "Numpy.random paketi rastgele sayılar için bir takım algoritmalar içerir. Burada en yaygın dört kullanım listelenmiştir:\n",
    "\n",
    "Bu dört kullanım şu şekildedir;\n",
    "\n",
    "* Her biri **[0.0, 1.0)** arasında olan 20 rasgele sayı üretmek için.\n",
    "* Belirtilen **şekle** bağlı olarak rasgele bir sayı oluşturmak için.\n",
    "* Belirtilen aralıktaki belirli bir sayıyı adedi kadar sayı üretebilmek için.\n",
    "* Var olan verilerin sırasını bozmak için."
   ]
  },
  {
   "cell_type": "code",
   "execution_count": 27,
   "metadata": {
    "_uuid": "ac8fcb29ab38c97ab39e8c30d0aa32221d78950e",
    "button": false,
    "new_sheet": false,
    "run_control": {
     "read_only": false
    }
   },
   "outputs": [
    {
     "name": "stdout",
     "output_type": "stream",
     "text": [
      "random: [0.97591459 0.70963244 0.71274272 0.9052036  0.8276741  0.90969397\n",
      " 0.81121699 0.41986093 0.94351019 0.98516341 0.50522794 0.30265514\n",
      " 0.87921027 0.41402905 0.27851685 0.07824987 0.20212265 0.71857348\n",
      " 0.85119351 0.51447833]\n",
      "\n",
      "rand: [[0.56123578 0.45788863 0.51853179 0.91962668]\n",
      " [0.60568674 0.8469316  0.94220325 0.80376898]\n",
      " [0.80604184 0.40306272 0.72154831 0.53511804]]\n",
      "\n",
      "randint: [39 68 74 55 48  9 46 71 48 56  7  6 78 63 41 15 67 85 16 51]\n",
      "\n",
      "permutation: [ 8  0  3 14 15 17  1  9 12 13 11 16 10  7 19  2  4 18  6  5]\n",
      "\n"
     ]
    }
   ],
   "source": [
    "print(\"random: {}\\n\".format(np.random.random(20)));\n",
    "\n",
    "print(\"rand: {}\\n\".format(np.random.rand(3, 4)));\n",
    "\n",
    "print(\"randint: {}\\n\".format(np.random.randint(0, 100, 20)));\n",
    "\n",
    "print(\"permutation: {}\\n\".format(np.random.permutation(np.arange(20))));"
   ]
  },
  {
   "cell_type": "markdown",
   "metadata": {
    "_uuid": "ce1a98641bb759f570a741c1bce0fca106eaf508",
    "button": false,
    "new_sheet": false,
    "run_control": {
     "read_only": false
    }
   },
   "source": [
    "> Son Güncelleme: 28 Aralık 2019 - Cumartesi"
   ]
  }
 ],
 "metadata": {
  "kernelspec": {
   "display_name": "Python 3",
   "language": "python",
   "name": "python3"
  },
  "language_info": {
   "codemirror_mode": {
    "name": "ipython",
    "version": 3
   },
   "file_extension": ".py",
   "mimetype": "text/x-python",
   "name": "python",
   "nbconvert_exporter": "python",
   "pygments_lexer": "ipython3",
   "version": "3.7.4"
  }
 },
 "nbformat": 4,
 "nbformat_minor": 1
}
