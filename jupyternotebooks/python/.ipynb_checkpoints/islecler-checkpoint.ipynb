{
 "cells": [
  {
   "cell_type": "markdown",
   "metadata": {},
   "source": [
    "# İşleçler"
   ]
  },
  {
   "cell_type": "markdown",
   "metadata": {},
   "source": [
    "Herhangi bir işlemde, işlenenler üzerinde yapılması öngörülen işi tanımlayan özel damga, damga dizgisi vb. göstergeler, örn.  | + | /| *| ** aritmetiksel, AND | OR | NOT mantıksal işleçler olarak kullanılır. [Kaynak](https://kelimeler.gen.tr/islec-nedir-ne-demek-168827)"
   ]
  },
  {
   "cell_type": "markdown",
   "metadata": {},
   "source": [
    "Python içerisinde farklı işleçler bulunmaktadır. Bunlar;\n",
    "1. Aritmetik İşleçler\n",
    "2. Karşılaştırma İşleçleri\n",
    "3. Bool İşleçleri\n",
    "4. Değer Atama İşleçleri\n",
    "5. Aitlik İşleçleri\n",
    "6. Kimlik İşleçleri"
   ]
  },
  {
   "cell_type": "markdown",
   "metadata": {},
   "source": [
    "## Aritmetik İşleçler"
   ]
  },
  {
   "cell_type": "markdown",
   "metadata": {},
   "source": [
    "Aritmetik işleçler, matematiksel işlemler yapabilmemiz sağlayan araçlar."
   ]
  },
  {
   "cell_type": "markdown",
   "metadata": {},
   "source": [
    "| İşleç |    İşlem    |\n",
    "|:-----:|:-----------:|\n",
    "|   +   |   Toplama   |\n",
    "|   -   |   Çıkarma   |\n",
    "|   *   |    Çarpma   |\n",
    "|   /   |    Bölme    |\n",
    "|   **  |    Kuvvet   |\n",
    "|   %   |   Modülüs   |\n",
    "|   //  | Taban Bölme |"
   ]
  },
  {
   "cell_type": "markdown",
   "metadata": {},
   "source": [
    "Aritmetik işleçlerle bazı işlemler yapalım ve nasıl kullanıldıklarını öğrenelim."
   ]
  },
  {
   "cell_type": "code",
   "execution_count": 2,
   "metadata": {},
   "outputs": [
    {
     "data": {
      "text/plain": [
       "1"
      ]
     },
     "execution_count": 2,
     "metadata": {},
     "output_type": "execute_result"
    }
   ],
   "source": [
    "3-2"
   ]
  },
  {
   "cell_type": "code",
   "execution_count": 3,
   "metadata": {},
   "outputs": [
    {
     "data": {
      "text/plain": [
       "6"
      ]
     },
     "execution_count": 3,
     "metadata": {},
     "output_type": "execute_result"
    }
   ],
   "source": [
    "3*2"
   ]
  },
  {
   "cell_type": "code",
   "execution_count": 4,
   "metadata": {},
   "outputs": [
    {
     "data": {
      "text/plain": [
       "5"
      ]
     },
     "execution_count": 4,
     "metadata": {},
     "output_type": "execute_result"
    }
   ],
   "source": [
    "3+2"
   ]
  },
  {
   "cell_type": "code",
   "execution_count": 5,
   "metadata": {},
   "outputs": [
    {
     "data": {
      "text/plain": [
       "1.5"
      ]
     },
     "execution_count": 5,
     "metadata": {},
     "output_type": "execute_result"
    }
   ],
   "source": [
    "3/2"
   ]
  },
  {
   "cell_type": "code",
   "execution_count": 6,
   "metadata": {},
   "outputs": [
    {
     "data": {
      "text/plain": [
       "9"
      ]
     },
     "execution_count": 6,
     "metadata": {},
     "output_type": "execute_result"
    }
   ],
   "source": [
    "3**2"
   ]
  },
  {
   "cell_type": "code",
   "execution_count": 7,
   "metadata": {},
   "outputs": [
    {
     "data": {
      "text/plain": [
       "'PythonDili'"
      ]
     },
     "execution_count": 7,
     "metadata": {},
     "output_type": "execute_result"
    }
   ],
   "source": [
    "\"Python\" + \"Dili\""
   ]
  },
  {
   "cell_type": "code",
   "execution_count": 8,
   "metadata": {},
   "outputs": [
    {
     "data": {
      "text/plain": [
       "'yavaşyavaş'"
      ]
     },
     "execution_count": 8,
     "metadata": {},
     "output_type": "execute_result"
    }
   ],
   "source": [
    "\"yavaş\" * 2"
   ]
  },
  {
   "cell_type": "code",
   "execution_count": 9,
   "metadata": {},
   "outputs": [
    {
     "data": {
      "text/plain": [
       "'/////'"
      ]
     },
     "execution_count": 9,
     "metadata": {},
     "output_type": "execute_result"
    }
   ],
   "source": [
    "\"/\" * 5"
   ]
  },
  {
   "cell_type": "code",
   "execution_count": 10,
   "metadata": {},
   "outputs": [
    {
     "data": {
      "text/plain": [
       "1"
      ]
     },
     "execution_count": 10,
     "metadata": {},
     "output_type": "execute_result"
    }
   ],
   "source": [
    "29 % 4 #Bu işleç bir sayının başka bir sayıya bölümünde kalanı vermektedir."
   ]
  },
  {
   "cell_type": "code",
   "execution_count": 11,
   "metadata": {},
   "outputs": [
    {
     "data": {
      "text/plain": [
       "0"
      ]
     },
     "execution_count": 11,
     "metadata": {},
     "output_type": "execute_result"
    }
   ],
   "source": [
    "30 % 5"
   ]
  },
  {
   "cell_type": "markdown",
   "metadata": {},
   "source": [
    "Bir sayının çift sayı olup olmadığın gösteren uygulama yapalım."
   ]
  },
  {
   "cell_type": "code",
   "execution_count": 12,
   "metadata": {},
   "outputs": [
    {
     "name": "stdout",
     "output_type": "stream",
     "text": [
      "Bir sayı giriniz: 5\n",
      "Girdiğiniz sayı çift sayı değildir.\n"
     ]
    }
   ],
   "source": [
    "sayi = int(input(\"Bir sayı giriniz: \"))\n",
    "\n",
    "if sayi % 2 == 0:\n",
    "    print(\"Girdiğiniz sayı bir çift sayıdır.\")\n",
    "else:\n",
    "    print(\"Girdiğiniz sayı çift sayı değildir.\")"
   ]
  },
  {
   "cell_type": "markdown",
   "metadata": {},
   "source": [
    "## Karşılaştırma İşleçleri"
   ]
  },
  {
   "cell_type": "markdown",
   "metadata": {},
   "source": [
    "Karşılaştırma işleçleri, adında anlaşıldığı üzere karşılaştırma işlemlerini yapabilmemizi sağlayan araçlardır."
   ]
  },
  {
   "cell_type": "markdown",
   "metadata": {},
   "source": [
    "| İşleç |     İşlevi    |\n",
    "|:-----:|:-------------:|\n",
    "|   ==  |    Eşittir    |\n",
    "|   !=  | Eşit Değildir |\n",
    "|   >   |    Büyüktür   |\n",
    "|   <   |    Küçüktür   |\n",
    "|   >=  | Büyük Eşittir |\n",
    "|   <=  | Küçük Eşittir |"
   ]
  },
  {
   "cell_type": "markdown",
   "metadata": {},
   "source": [
    "Tabloda bulunan işleçlerin hepsini olmasada bazıları için küçük bir örnek ile nasıl kullanıldığına bakalım."
   ]
  },
  {
   "cell_type": "code",
   "execution_count": 13,
   "metadata": {},
   "outputs": [
    {
     "name": "stdout",
     "output_type": "stream",
     "text": [
      "parolanız: 11111\n",
      "doğru parola!\n"
     ]
    }
   ],
   "source": [
    "parola = \"11111\"\n",
    "\n",
    "soru = input(\"parolanız: \")\n",
    "\n",
    "if soru == parola: \n",
    "    print(\"doğru parola!\")\n",
    "elif soru != parola: \n",
    "    print(\"yanlış parola!\")"
   ]
  },
  {
   "cell_type": "code",
   "execution_count": 14,
   "metadata": {},
   "outputs": [
    {
     "name": "stdout",
     "output_type": "stream",
     "text": [
      "Bir sayı giriniz: 5\n",
      "Sayı 5'e eşittir.\n"
     ]
    }
   ],
   "source": [
    "sayi = int(input(\"Bir sayı giriniz: \"))\n",
    "\n",
    "if sayi == 5:\n",
    "    print(\"Sayı 5'e eşittir.\")\n",
    "elif sayi < 5:\n",
    "    print(\"Sayı 5'ten küçüktür.\")\n",
    "elif sayi > 5:\n",
    "    print(\"Sayı 5'ten büyüktür.\")"
   ]
  },
  {
   "cell_type": "markdown",
   "metadata": {},
   "source": [
    "## Bool İşleçleri"
   ]
  },
  {
   "cell_type": "markdown",
   "metadata": {},
   "source": [
    "Bu işleç bizlere karşılaştırılan bir nesne ile ilgili iki farklı sonuç gösterir. Bunlar **True** veya **False** değerleridir. Bu yapının nasıl olduğuna bakalım."
   ]
  },
  {
   "cell_type": "code",
   "execution_count": 15,
   "metadata": {},
   "outputs": [
    {
     "data": {
      "text/plain": [
       "False"
      ]
     },
     "execution_count": 15,
     "metadata": {},
     "output_type": "execute_result"
    }
   ],
   "source": [
    "5 == 0"
   ]
  },
  {
   "cell_type": "code",
   "execution_count": 16,
   "metadata": {},
   "outputs": [
    {
     "data": {
      "text/plain": [
       "True"
      ]
     },
     "execution_count": 16,
     "metadata": {},
     "output_type": "execute_result"
    }
   ],
   "source": [
    "5 == 5"
   ]
  },
  {
   "cell_type": "markdown",
   "metadata": {},
   "source": [
    "Eğer istersek **bool()** fonksiyonundanda faydalanabiliriz."
   ]
  },
  {
   "cell_type": "code",
   "execution_count": 17,
   "metadata": {},
   "outputs": [
    {
     "data": {
      "text/plain": [
       "False"
      ]
     },
     "execution_count": 17,
     "metadata": {},
     "output_type": "execute_result"
    }
   ],
   "source": [
    "bool(5 == 0)"
   ]
  },
  {
   "cell_type": "markdown",
   "metadata": {},
   "source": [
    "Bool işleci kendi içinde üç adet yapı bulundurmaktadır. Bunlar:\n",
    "\n",
    "1. and\n",
    "2. or \n",
    "3. not\n",
    "\n",
    "bu yapıları tek tek inceleyelim."
   ]
  },
  {
   "cell_type": "markdown",
   "metadata": {},
   "source": [
    "### and yapısı"
   ]
  },
  {
   "cell_type": "markdown",
   "metadata": {},
   "source": [
    "Bu yapı **ve** anlamına gelmektedir. Bu yapıyı kullandığımız yerde her iki durumunda doğru olması beklenir. Örnek üzerinde nasıl kullanıldığını inceleyelim."
   ]
  },
  {
   "cell_type": "code",
   "execution_count": 18,
   "metadata": {},
   "outputs": [
    {
     "name": "stdout",
     "output_type": "stream",
     "text": [
      "Bir sayı giriniz: 7\n",
      "Girdiğiniz sayı 5 ile 10 arasında bulunmaktadır.\n"
     ]
    }
   ],
   "source": [
    "sayi = int(input(\"Bir sayı giriniz: \"))\n",
    "\n",
    "if sayi > 0 and sayi < 5:\n",
    "    print(\"Giridiğiniz sayı 0 ile 5 arasında bulunmaktadır.\")\n",
    "elif sayi > 5 and sayi < 10:\n",
    "    print(\"Girdiğiniz sayı 5 ile 10 arasında bulunmaktadır.\")"
   ]
  },
  {
   "cell_type": "markdown",
   "metadata": {},
   "source": [
    "### or yapısı"
   ]
  },
  {
   "cell_type": "markdown",
   "metadata": {},
   "source": [
    "Bu yapı **veya** anlamına gelmektedir. Bu yapıyı kullandığımız yerde her iki durumdan sadece birisinin doğru olması beklenmektedir. Örnek üzerinde nasıl kullanıldığını inceleyelim."
   ]
  },
  {
   "cell_type": "code",
   "execution_count": 20,
   "metadata": {},
   "outputs": [
    {
     "name": "stdout",
     "output_type": "stream",
     "text": [
      "Notunuz: 99\n",
      "A aldınız.\n"
     ]
    }
   ],
   "source": [
    "x = int(input(\"Notunuz: \")) \n",
    "\n",
    "if x > 100 or x < 0:\n",
    "    print(\"Böyle bir not yok\") \n",
    "elif x >= 90 and x <= 100:\n",
    "    print(\"A aldınız.\") \n",
    "elif x >= 80 and x <= 89:\n",
    "    print(\"B aldınız.\") \n",
    "elif x >= 70 and x <= 79:\n",
    "    print(\"C aldınız.\") \n",
    "elif x >= 60 and x <= 69:\n",
    "    print(\"D aldınız.\")\n",
    "elif x >= 0 and x <= 59: \n",
    "    print(\"F aldınız.\")"
   ]
  },
  {
   "cell_type": "markdown",
   "metadata": {},
   "source": [
    "### not yapısı"
   ]
  },
  {
   "cell_type": "markdown",
   "metadata": {},
   "source": [
    "Bu yapı **değil** anlamına gelmektedir. Bu yapıyı kullandığımız yerde durum istediğimiz duruma eşit değilse gerekli işlemleri yapmaktadır."
   ]
  },
  {
   "cell_type": "code",
   "execution_count": 21,
   "metadata": {},
   "outputs": [
    {
     "name": "stdout",
     "output_type": "stream",
     "text": [
      "parola: \n",
      "Parola boş bırakılamaz!\n"
     ]
    }
   ],
   "source": [
    "parola = input(\"parola: \")\n",
    "\n",
    "if not parola:\n",
    "    print(\"Parola boş bırakılamaz!\")\n",
    "else:\n",
    "    print(\"Parola dolu.\")"
   ]
  },
  {
   "cell_type": "markdown",
   "metadata": {},
   "source": [
    "## Değer Atama işleçleri"
   ]
  },
  {
   "cell_type": "markdown",
   "metadata": {},
   "source": [
    "| İşleç |                  İşlevi                  |\n",
    "|:-----:|:----------------------------------------:|\n",
    "|   =   |                Değer Atama               |\n",
    "|   +=  |           Topla ve Sonucu Aktar          |\n",
    "|   -=  |           Çıkar ve Sonucu Aktar          |\n",
    "|   /=  |            Böl ve Sonucu Aktar           |\n",
    "|   *=  |           Çarp ve Sonucu Aktar           |\n",
    "|   %=  |        Kalanı Bul ve Sonucu Aktar        |\n",
    "|  **=  |         Üssünü Al ve Sonucu Aktar        |\n",
    "|  //=  | Taban Bölme İşlemini Yap ve Sonucu Aktar |"
   ]
  },
  {
   "cell_type": "markdown",
   "metadata": {},
   "source": [
    "Tabloda bulunan işleçleri tek tek inceleyelim. "
   ]
  },
  {
   "cell_type": "code",
   "execution_count": 22,
   "metadata": {},
   "outputs": [],
   "source": [
    "a = 5 #değer atama"
   ]
  },
  {
   "cell_type": "code",
   "execution_count": 28,
   "metadata": {},
   "outputs": [
    {
     "name": "stdout",
     "output_type": "stream",
     "text": [
      "10\n"
     ]
    }
   ],
   "source": [
    "c = 5 \n",
    "c += 5 #toplama işlemi\n",
    "print(c)"
   ]
  },
  {
   "cell_type": "code",
   "execution_count": 26,
   "metadata": {},
   "outputs": [
    {
     "name": "stdout",
     "output_type": "stream",
     "text": [
      "10\n"
     ]
    }
   ],
   "source": [
    "#Yukarıda yaptığımız toplama işleminin eş değeri.\n",
    "b = 5\n",
    "b = b + 5\n",
    "print(b)"
   ]
  },
  {
   "cell_type": "code",
   "execution_count": 29,
   "metadata": {},
   "outputs": [
    {
     "name": "stdout",
     "output_type": "stream",
     "text": [
      "1\n"
     ]
    }
   ],
   "source": [
    "d = 2\n",
    "d -= 1 #çıkarma işlemi\n",
    "print(d)"
   ]
  },
  {
   "cell_type": "code",
   "execution_count": 30,
   "metadata": {},
   "outputs": [
    {
     "name": "stdout",
     "output_type": "stream",
     "text": [
      "1.3333333333333333\n"
     ]
    }
   ],
   "source": [
    "e = 4\n",
    "e /= 3 #bölme işlemi\n",
    "print(e)"
   ]
  },
  {
   "cell_type": "code",
   "execution_count": 31,
   "metadata": {},
   "outputs": [
    {
     "name": "stdout",
     "output_type": "stream",
     "text": [
      "10\n"
     ]
    }
   ],
   "source": [
    "f = 5\n",
    "f *= 2 #çarpma işlemi\n",
    "print(f)"
   ]
  },
  {
   "cell_type": "code",
   "execution_count": 32,
   "metadata": {},
   "outputs": [
    {
     "name": "stdout",
     "output_type": "stream",
     "text": [
      "1\n"
     ]
    }
   ],
   "source": [
    "g = 10\n",
    "g %= 3\n",
    "print(g)"
   ]
  },
  {
   "cell_type": "code",
   "execution_count": 34,
   "metadata": {},
   "outputs": [
    {
     "name": "stdout",
     "output_type": "stream",
     "text": [
      "8\n"
     ]
    }
   ],
   "source": [
    "h = 2\n",
    "h **= 3\n",
    "print(h)"
   ]
  },
  {
   "cell_type": "code",
   "execution_count": 36,
   "metadata": {},
   "outputs": [
    {
     "name": "stdout",
     "output_type": "stream",
     "text": [
      "1\n"
     ]
    }
   ],
   "source": [
    "k = 3\n",
    "k //= 2\n",
    "print(k)"
   ]
  },
  {
   "cell_type": "markdown",
   "metadata": {},
   "source": [
    "## Aitlik İşleçleri"
   ]
  },
  {
   "cell_type": "markdown",
   "metadata": {},
   "source": [
    "Aitlik işleçleri, bir karakter dizisi ya da sayının, herhangi bir veri tipi içinde bulunup bulunmadığını sorgulamamızı sağlayan işleçlerdir."
   ]
  },
  {
   "cell_type": "code",
   "execution_count": 37,
   "metadata": {},
   "outputs": [
    {
     "data": {
      "text/plain": [
       "True"
      ]
     },
     "execution_count": 37,
     "metadata": {},
     "output_type": "execute_result"
    }
   ],
   "source": [
    "rakamlar = \"12345\"\n",
    "\"1\" in rakamlar"
   ]
  },
  {
   "cell_type": "code",
   "execution_count": 38,
   "metadata": {},
   "outputs": [
    {
     "data": {
      "text/plain": [
       "False"
      ]
     },
     "execution_count": 38,
     "metadata": {},
     "output_type": "execute_result"
    }
   ],
   "source": [
    "\"7\" in rakamlar"
   ]
  },
  {
   "cell_type": "markdown",
   "metadata": {},
   "source": [
    "## Kimlik İşleçleri"
   ]
  },
  {
   "cell_type": "markdown",
   "metadata": {},
   "source": [
    "Python’da her şeyin (ya da başka bir deyişle her nesnenin) bir kimlik numarası (identity) vardır. Kabaca söylemek gerekirse, bu kimlik numarası denen şey esasında o nesnenin bellekteki adresini gösterir."
   ]
  },
  {
   "cell_type": "markdown",
   "metadata": {},
   "source": [
    "Bu kimlik numarasına **id()** isimli fonksiyon ile erişebiliriz."
   ]
  },
  {
   "cell_type": "code",
   "execution_count": 43,
   "metadata": {},
   "outputs": [
    {
     "data": {
      "text/plain": [
       "4480324880"
      ]
     },
     "execution_count": 43,
     "metadata": {},
     "output_type": "execute_result"
    }
   ],
   "source": [
    "m = 5\n",
    "id(m)"
   ]
  },
  {
   "cell_type": "code",
   "execution_count": 44,
   "metadata": {},
   "outputs": [
    {
     "data": {
      "text/plain": [
       "4480325360"
      ]
     },
     "execution_count": 44,
     "metadata": {},
     "output_type": "execute_result"
    }
   ],
   "source": [
    "n = 20\n",
    "id(n)"
   ]
  },
  {
   "cell_type": "markdown",
   "metadata": {},
   "source": [
    "> Son Güncelleme: 16 Aralık 2019 - Pazartesi"
   ]
  }
 ],
 "metadata": {
  "kernelspec": {
   "display_name": "Python 3",
   "language": "python",
   "name": "python3"
  },
  "language_info": {
   "codemirror_mode": {
    "name": "ipython",
    "version": 3
   },
   "file_extension": ".py",
   "mimetype": "text/x-python",
   "name": "python",
   "nbconvert_exporter": "python",
   "pygments_lexer": "ipython3",
   "version": "3.7.4"
  }
 },
 "nbformat": 4,
 "nbformat_minor": 2
}
