{
 "cells": [
  {
   "cell_type": "markdown",
   "metadata": {},
   "source": [
    "# Koşullu Durumlar"
   ]
  },
  {
   "cell_type": "markdown",
   "metadata": {},
   "source": [
    "Koşullu Duumlar, geliştirdiğimiz yazılımda bazı filtrelemeler yapmamızı veya belirli bir koşul belirleyip ona göre davranmasını sağlayabiliriz. Bunun için python'da bulunan koşulları inceleyelim."
   ]
  },
  {
   "cell_type": "markdown",
   "metadata": {},
   "source": [
    "## Koşul Deyimleri"
   ]
  },
  {
   "cell_type": "markdown",
   "metadata": {},
   "source": [
    "### İf"
   ]
  },
  {
   "cell_type": "markdown",
   "metadata": {},
   "source": [
    "Python programlama dilinde koşullu durumları belirtmek için üç adet deyimden faydalanırız:\n",
    "\n",
    "- if\n",
    "- elif\n",
    "- else\n",
    "\n",
    "if deyimi ile başlayalım."
   ]
  },
  {
   "cell_type": "code",
   "execution_count": 1,
   "metadata": {},
   "outputs": [
    {
     "name": "stdout",
     "output_type": "stream",
     "text": [
      "Sayı 10'dan büyüktür.\n"
     ]
    }
   ],
   "source": [
    "a = 10\n",
    "if a > 5:\n",
    "    print(\"Sayı 10'dan büyüktür.\")"
   ]
  },
  {
   "cell_type": "markdown",
   "metadata": {},
   "source": [
    "if deyimi >(büyüktür) işaretinin haricinde farklı işaretlerde almaktadır."
   ]
  },
  {
   "cell_type": "markdown",
   "metadata": {},
   "source": [
    "| İşleç |     Anlamı    |\n",
    "|:-----:|:-------------:|\n",
    "|   >   |    büyüktür   |\n",
    "|   <   |    küçüktür   |\n",
    "|   >=  | büyük eşittir |\n",
    "|   <=  | küçük eşittir |\n",
    "|   ==  |    eşittir    |\n",
    "|   !=  | eşit değildir |"
   ]
  },
  {
   "cell_type": "markdown",
   "metadata": {},
   "source": [
    "Kullanıcıdan bilgi alarak if deyimini kullanalım."
   ]
  },
  {
   "cell_type": "code",
   "execution_count": 2,
   "metadata": {},
   "outputs": [
    {
     "name": "stdout",
     "output_type": "stream",
     "text": [
      "Bir sayı giriniz: 5\n",
      "sayı 5'e eşittir.\n"
     ]
    }
   ],
   "source": [
    "sayi = int(input(\"Bir sayı giriniz: \"))\n",
    "if sayi < 5:\n",
    "    print(\"sayı 5'ten küçüktür.\")\n",
    "if sayi > 5:\n",
    "    print(\"sayı 5'ten büyüktür.\")\n",
    "if sayi == 5:\n",
    "    print(\"sayı 5'e eşittir.\")"
   ]
  },
  {
   "cell_type": "markdown",
   "metadata": {},
   "source": [
    "### elif"
   ]
  },
  {
   "cell_type": "markdown",
   "metadata": {},
   "source": [
    "elif, bir başka koşul deyimidir. Nasıl çalıştığını aşağıda bulunan örneği incleyerek anlayalım."
   ]
  },
  {
   "cell_type": "code",
   "execution_count": 8,
   "metadata": {},
   "outputs": [
    {
     "name": "stdout",
     "output_type": "stream",
     "text": [
      "Bir sayı giriniz: 1\n",
      "sayı 5'ten küçüktür.\n"
     ]
    }
   ],
   "source": [
    "sayi = int(input(\"Bir sayı giriniz: \"))\n",
    "\n",
    "if sayi == 5:\n",
    "    print(\"sayı 5'e eşittir.\")\n",
    "elif sayi < 5:\n",
    "    print(\"sayı 5'ten küçüktür.\")\n",
    "elif sayi < 10:\n",
    "    print(\"sayı 10'dan küçüktür.\")\n",
    "elif sayi > 5:\n",
    "    print(\"sayı 5'ten büyüktür.\")"
   ]
  },
  {
   "cell_type": "markdown",
   "metadata": {},
   "source": [
    "Yukarıda yazdığımız örneği hepsi if olacak şekilde yazalım ve iki sonucuda karşılaştıralım."
   ]
  },
  {
   "cell_type": "code",
   "execution_count": 9,
   "metadata": {},
   "outputs": [
    {
     "name": "stdout",
     "output_type": "stream",
     "text": [
      "Bir sayı giriniz: 1\n",
      "sayı 5'ten küçüktür.\n",
      "sayı 10'dan küçüktür.\n"
     ]
    }
   ],
   "source": [
    "sayi = int(input(\"Bir sayı giriniz: \"))\n",
    "\n",
    "if sayi == 5:\n",
    "    print(\"sayı 5'e eşittir.\")\n",
    "if sayi < 5:\n",
    "    print(\"sayı 5'ten küçüktür.\")\n",
    "if sayi < 10:\n",
    "    print(\"sayı 10'dan küçüktür.\")\n",
    "if sayi > 5:\n",
    "    print(\"sayı 5'ten büyüktür.\")"
   ]
  },
  {
   "cell_type": "markdown",
   "metadata": {},
   "source": [
    "Gördüğünüz gibi elif koşulunu kullanarak yazdığımız zaman girmiş olduğumuz değer hem 5 hem de 10 değerinden küçük olduğu halde sadece 5'ten küçüktür dedi. Yani elif değeri kendisinden sonraki başka koşul çalışacak dahi olsa o koşula hiç uğramıyor.\n",
    "\n",
    "Aynı programı if değerini kullandığımız zaman hem 5'ten küçüktür hem de 10'dan küçüktür yazdı. Bu da bizlere if ve elif koşullarının nasıl çalıştığı hakkında bilgi veriyor."
   ]
  },
  {
   "cell_type": "markdown",
   "metadata": {},
   "source": [
    "### else"
   ]
  },
  {
   "cell_type": "markdown",
   "metadata": {},
   "source": [
    "else koşullu deyimi yukarıda bahsettiğimiz koşullu deyimlerden biraz farklı çalışmaktadır. Nasıl çalıştığını bir örnek üzerinde inceleyelim."
   ]
  },
  {
   "cell_type": "code",
   "execution_count": 11,
   "metadata": {},
   "outputs": [
    {
     "name": "stdout",
     "output_type": "stream",
     "text": [
      "Bir sayı giriniz: 0\n",
      "Tekrar deneyiniz.\n"
     ]
    }
   ],
   "source": [
    "sayi = int(input(\"Bir sayı giriniz: \"))\n",
    "\n",
    "if sayi == 1:\n",
    "    print(\"Bildiniz.\")\n",
    "else: \n",
    "    print(\"Tekrar deneyiniz.\")"
   ]
  },
  {
   "cell_type": "markdown",
   "metadata": {},
   "source": [
    "Görmüş olduğunuz gibi eğer yazmış olduğumuz koşul sağlanmadığı zaman else durumu çalışmaktadır."
   ]
  },
  {
   "cell_type": "markdown",
   "metadata": {},
   "source": [
    "> Son Güncelleme: 16 Aralık 2019 - Pazartesi"
   ]
  }
 ],
 "metadata": {
  "kernelspec": {
   "display_name": "Python 3",
   "language": "python",
   "name": "python3"
  },
  "language_info": {
   "codemirror_mode": {
    "name": "ipython",
    "version": 3
   },
   "file_extension": ".py",
   "mimetype": "text/x-python",
   "name": "python",
   "nbconvert_exporter": "python",
   "pygments_lexer": "ipython3",
   "version": "3.7.4"
  }
 },
 "nbformat": 4,
 "nbformat_minor": 2
}
