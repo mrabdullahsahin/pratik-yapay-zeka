{
 "cells": [
  {
   "cell_type": "markdown",
   "metadata": {},
   "source": [
    "# Kullanıcıdan Bilgi Almak"
   ]
  },
  {
   "cell_type": "markdown",
   "metadata": {},
   "source": [
    "Kullanıcıdan bilgi almak, geliştirdiğimiz yazılımların kullanıcıya özgü bilgiler üretmesi için elzem bir durumdur. Bu yüzden python içerisinde bulunan ve kullanıcıdan bilgi almamıza yarayan bir fonksiyondur."
   ]
  },
  {
   "cell_type": "markdown",
   "metadata": {},
   "source": [
    "## input() fonksiyonu"
   ]
  },
  {
   "cell_type": "code",
   "execution_count": 1,
   "metadata": {},
   "outputs": [
    {
     "name": "stdout",
     "output_type": "stream",
     "text": [
      "İsminiz nedir? Abdullah\n"
     ]
    }
   ],
   "source": [
    "isim = input(\"İsminiz nedir? \")"
   ]
  },
  {
   "cell_type": "code",
   "execution_count": 2,
   "metadata": {},
   "outputs": [
    {
     "name": "stdout",
     "output_type": "stream",
     "text": [
      "Merhaba Abdullah!\n"
     ]
    }
   ],
   "source": [
    "print(\"Merhaba\", isim, end=\"!\\n\")"
   ]
  },
  {
   "cell_type": "markdown",
   "metadata": {},
   "source": [
    "Gördüğünüz gibi input() fonksiyonu etkileşimli bir yazılım üretmemiz konusunda kolaylık sağlıyor. Peki bu fonksiyonu kullanarak bir adet toplama işlemi yaptıralım;"
   ]
  },
  {
   "cell_type": "code",
   "execution_count": 3,
   "metadata": {},
   "outputs": [
    {
     "name": "stdout",
     "output_type": "stream",
     "text": [
      "1. Sayıyı giriniz?: 1\n"
     ]
    }
   ],
   "source": [
    "sayi1 = input(\"1. Sayıyı giriniz?: \")"
   ]
  },
  {
   "cell_type": "code",
   "execution_count": 4,
   "metadata": {},
   "outputs": [
    {
     "name": "stdout",
     "output_type": "stream",
     "text": [
      "2. Sayıyı giriniz: 0\n"
     ]
    }
   ],
   "source": [
    "sayi2 = input(\"2. Sayıyı giriniz: \")"
   ]
  },
  {
   "cell_type": "code",
   "execution_count": 5,
   "metadata": {},
   "outputs": [],
   "source": [
    "toplam = sayi1 + sayi2"
   ]
  },
  {
   "cell_type": "code",
   "execution_count": 6,
   "metadata": {},
   "outputs": [
    {
     "name": "stdout",
     "output_type": "stream",
     "text": [
      "Toplam işleminin sonucu:  10\n"
     ]
    }
   ],
   "source": [
    "print(\"Toplam işleminin sonucu: \",toplam)"
   ]
  },
  {
   "cell_type": "markdown",
   "metadata": {},
   "source": [
    "Yukarıda bulunan işlemi incelediğimiz taktirde bir hatanın olduğunu görüyoruz. Bu hata toplama işlemi yerine iki adet cümleyi yan yana yazdırma işlemi yapmış olması. Peki bu durumun sebebi ne, neden iki sayıyı toplamak yerine bu iki sayıyı yan yana yazdırdı. Burada bakmamız gereken yapı, girdiğimiz sayıların tipinin sayı mı olduğu yoksa cümlemi olduğu. Hadi bu bakalım."
   ]
  },
  {
   "cell_type": "code",
   "execution_count": 7,
   "metadata": {},
   "outputs": [
    {
     "data": {
      "text/plain": [
       "str"
      ]
     },
     "execution_count": 7,
     "metadata": {},
     "output_type": "execute_result"
    }
   ],
   "source": [
    "type(sayi1)"
   ]
  },
  {
   "cell_type": "code",
   "execution_count": 8,
   "metadata": {},
   "outputs": [
    {
     "data": {
      "text/plain": [
       "str"
      ]
     },
     "execution_count": 8,
     "metadata": {},
     "output_type": "execute_result"
    }
   ],
   "source": [
    "type(sayi2)"
   ]
  },
  {
   "cell_type": "code",
   "execution_count": 9,
   "metadata": {},
   "outputs": [
    {
     "data": {
      "text/plain": [
       "str"
      ]
     },
     "execution_count": 9,
     "metadata": {},
     "output_type": "execute_result"
    }
   ],
   "source": [
    "type(toplam)"
   ]
  },
  {
   "cell_type": "markdown",
   "metadata": {},
   "source": [
    "Yukarıda da gördüğünüz gibi sayi1, sayi2 ve toplam değişkenlerinin tipi string. Bu durumda bizim kullanıcıdan aldığımız değerlerin tiplerini dönüştürmemiz gerekmektedir. Şİmdi de bu konuyu öğrenelim."
   ]
  },
  {
   "cell_type": "markdown",
   "metadata": {},
   "source": [
    "## Tip Dönüşümleri"
   ]
  },
  {
   "cell_type": "markdown",
   "metadata": {},
   "source": [
    "Tip dönüşümleri, değişkenlerin farklı tiplere dönüştürülmesini sağlar."
   ]
  },
  {
   "cell_type": "markdown",
   "metadata": {},
   "source": [
    "### int()"
   ]
  },
  {
   "cell_type": "markdown",
   "metadata": {},
   "source": [
    "Bu yapı değişkenimizi int tipine dönüştürmemizi sağlar."
   ]
  },
  {
   "cell_type": "code",
   "execution_count": 12,
   "metadata": {},
   "outputs": [
    {
     "name": "stdout",
     "output_type": "stream",
     "text": [
      "str_sayi:  <class 'str'>\n",
      "int_sayi:  <class 'int'>\n"
     ]
    }
   ],
   "source": [
    "str_sayi = \"1\"\n",
    "int_sayi = int(str_sayi)\n",
    "print(\"str_sayi: \",type(str_sayi))\n",
    "print(\"int_sayi: \",type(int_sayi))"
   ]
  },
  {
   "cell_type": "markdown",
   "metadata": {},
   "source": [
    "string tipindeki değişkeni int() fonksiyonu ile int tipine dönüştürdük. Böylece bu değişkeni matematiksel işlemlerde kullanabiliriz."
   ]
  },
  {
   "cell_type": "markdown",
   "metadata": {},
   "source": [
    "### str()"
   ]
  },
  {
   "cell_type": "markdown",
   "metadata": {},
   "source": [
    "Bu yapı değişkenimizin tipini str tipine dönüştürmemizi sağlar."
   ]
  },
  {
   "cell_type": "code",
   "execution_count": 13,
   "metadata": {},
   "outputs": [
    {
     "name": "stdout",
     "output_type": "stream",
     "text": [
      "sayinin tipi:  <class 'int'>\n",
      "karakterin tipi:  <class 'str'>\n"
     ]
    }
   ],
   "source": [
    "sayi = 5\n",
    "karakter = str(sayi)\n",
    "print(\"sayinin tipi: \",type(sayi))\n",
    "print(\"karakterin tipi: \",type(karakter))"
   ]
  },
  {
   "cell_type": "markdown",
   "metadata": {},
   "source": [
    "### float()"
   ]
  },
  {
   "cell_type": "markdown",
   "metadata": {},
   "source": [
    "Bu yapı değişkenimizi float tipine dönüştürmemizi sağlar. Bu tür bildiğiniz üzere kayan noktalı sayılar oluyor. Örnek vermek gerekirse 1,5 gibi."
   ]
  },
  {
   "cell_type": "code",
   "execution_count": 15,
   "metadata": {},
   "outputs": [
    {
     "name": "stdout",
     "output_type": "stream",
     "text": [
      "42\n"
     ]
    },
    {
     "data": {
      "text/plain": [
       "int"
      ]
     },
     "execution_count": 15,
     "metadata": {},
     "output_type": "execute_result"
    }
   ],
   "source": [
    "a = 42\n",
    "print(a)\n",
    "type(a)"
   ]
  },
  {
   "cell_type": "code",
   "execution_count": 16,
   "metadata": {},
   "outputs": [
    {
     "name": "stdout",
     "output_type": "stream",
     "text": [
      "42.0\n"
     ]
    },
    {
     "data": {
      "text/plain": [
       "float"
      ]
     },
     "execution_count": 16,
     "metadata": {},
     "output_type": "execute_result"
    }
   ],
   "source": [
    "a = float(a)\n",
    "print(a)\n",
    "type(a)"
   ]
  },
  {
   "cell_type": "markdown",
   "metadata": {},
   "source": [
    "### complex()"
   ]
  },
  {
   "cell_type": "markdown",
   "metadata": {},
   "source": [
    "Bu yapı değişkenimizi complex tipine dönüştürmemizi sağlar. Bu tür bildiğiniz üzere karmaşık sayılar oluyor. Örnek vermek gerekirse 15+0j gibi."
   ]
  },
  {
   "cell_type": "code",
   "execution_count": 17,
   "metadata": {},
   "outputs": [
    {
     "data": {
      "text/plain": [
       "complex"
      ]
     },
     "execution_count": 17,
     "metadata": {},
     "output_type": "execute_result"
    }
   ],
   "source": [
    "type(15+0j)"
   ]
  },
  {
   "cell_type": "markdown",
   "metadata": {},
   "source": [
    "Bu kısımda öğrendiklerimiz ile yukarıda yapmaya çalıştığımız, kullanıcıdan iki adet sayı alıp bunları toplama işlemini yapalım."
   ]
  },
  {
   "cell_type": "code",
   "execution_count": 18,
   "metadata": {},
   "outputs": [
    {
     "name": "stdout",
     "output_type": "stream",
     "text": [
      "1. sayıyı giriniz: 1\n"
     ]
    }
   ],
   "source": [
    "sayi1 = int(input(\"1. sayıyı giriniz: \"))"
   ]
  },
  {
   "cell_type": "code",
   "execution_count": 19,
   "metadata": {},
   "outputs": [
    {
     "name": "stdout",
     "output_type": "stream",
     "text": [
      "2. sayıyı giriniz: 1\n"
     ]
    }
   ],
   "source": [
    "sayi2 = int(input(\"2. sayıyı giriniz: \"))"
   ]
  },
  {
   "cell_type": "code",
   "execution_count": 20,
   "metadata": {},
   "outputs": [],
   "source": [
    "toplam = sayi1 + sayi2"
   ]
  },
  {
   "cell_type": "code",
   "execution_count": 21,
   "metadata": {},
   "outputs": [
    {
     "name": "stdout",
     "output_type": "stream",
     "text": [
      "Toplam:  2\n"
     ]
    }
   ],
   "source": [
    "print(\"Toplam: \",toplam)"
   ]
  },
  {
   "cell_type": "markdown",
   "metadata": {},
   "source": [
    "## format() Metodu"
   ]
  },
  {
   "cell_type": "markdown",
   "metadata": {},
   "source": [
    "Bu fonksiyon, print fonksiyonunu daha etkili kullanabilmemiz ve bazı işlemleri daha etkili yapmamız sağlar. Hemen bir örnek ile inceleyelim."
   ]
  },
  {
   "cell_type": "code",
   "execution_count": 22,
   "metadata": {},
   "outputs": [
    {
     "name": "stdout",
     "output_type": "stream",
     "text": [
      "Python ve Java bir progralama dilidir.\n"
     ]
    }
   ],
   "source": [
    "dil1 = \"Python\"\n",
    "dil2 = \"Java\"\n",
    "\n",
    "print(\"{} ve {} bir progralama dilidir.\".format(dil1,dil2))"
   ]
  },
  {
   "cell_type": "markdown",
   "metadata": {},
   "source": [
    "Bu yapıyı kullanıcıdan aldığımız bilgileri print fonksiyonu ile ekranda gösterebiliriz."
   ]
  },
  {
   "cell_type": "markdown",
   "metadata": {},
   "source": [
    "> Son Güncelleme: 16 Aralık 2019 - Pazartesi"
   ]
  }
 ],
 "metadata": {
  "kernelspec": {
   "display_name": "Python 3",
   "language": "python",
   "name": "python3"
  },
  "language_info": {
   "codemirror_mode": {
    "name": "ipython",
    "version": 3
   },
   "file_extension": ".py",
   "mimetype": "text/x-python",
   "name": "python",
   "nbconvert_exporter": "python",
   "pygments_lexer": "ipython3",
   "version": "3.7.4"
  }
 },
 "nbformat": 4,
 "nbformat_minor": 2
}
