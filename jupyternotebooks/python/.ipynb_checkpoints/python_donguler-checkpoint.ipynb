{
 "cells": [
  {
   "cell_type": "markdown",
   "metadata": {},
   "source": [
    "# Döngüler(Loops)"
   ]
  },
  {
   "cell_type": "markdown",
   "metadata": {},
   "source": [
    "Bir durumun/sürecin tekrar tekrar kullanılmasını sağlayan yapıya döngü(loops) denir."
   ]
  },
  {
   "cell_type": "markdown",
   "metadata": {},
   "source": [
    "Python'da iki adet döngü bulunmaktadır;\n",
    "1. While\n",
    "2. For"
   ]
  },
  {
   "cell_type": "markdown",
   "metadata": {},
   "source": [
    "## While Döngüsü"
   ]
  },
  {
   "cell_type": "markdown",
   "metadata": {},
   "source": [
    "While döngüsünü örnekler üzerinden öğrenelim."
   ]
  },
  {
   "cell_type": "code",
   "execution_count": 3,
   "metadata": {},
   "outputs": [
    {
     "name": "stdout",
     "output_type": "stream",
     "text": [
      "Sayı 5'ten küçüktür.\n",
      "Sayı 5'ten küçüktür.\n",
      "Sayı 5'ten küçüktür.\n",
      "Sayı 5'ten küçüktür.\n"
     ]
    }
   ],
   "source": [
    "a = 1\n",
    "\n",
    "while a < 5:\n",
    "    a += 1\n",
    "    print(\"Sayı 5'ten küçüktür.\")"
   ]
  },
  {
   "cell_type": "markdown",
   "metadata": {},
   "source": [
    "Yukarıda bulunan örnekte aşağıdaki adımlar gerçekleşmiştir:\n",
    "    \n",
    "- Adım 1: a değişkenine 1 değerini ata.\n",
    "- Adım 2: a sayısı 5 değerinden küçük ise döngünün içine gir. Eğer a sayısı 5 değerinden büyük ise **Adım 6**'ya git.\n",
    "- Adım 3: a değerini 1 artır.\n",
    "- Adım 4: ekrana \"Sayı 5'ten küçüktür.\" yazdır.\n",
    "- Adım 5: **Adım 2**'ye git.\n",
    "- Adım 6: Çıkış."
   ]
  },
  {
   "cell_type": "markdown",
   "metadata": {},
   "source": [
    "While döngüsünün daha iyi anlaşılması için çift sayıları ekrana yazdıran bir uygulama yapalım."
   ]
  },
  {
   "cell_type": "code",
   "execution_count": 4,
   "metadata": {},
   "outputs": [
    {
     "name": "stdout",
     "output_type": "stream",
     "text": [
      "2\n",
      "4\n",
      "6\n",
      "8\n",
      "10\n",
      "12\n",
      "14\n",
      "16\n",
      "18\n"
     ]
    }
   ],
   "source": [
    "sayi = 0\n",
    "\n",
    "while sayi < 19: \n",
    "    sayi += 1\n",
    "    if sayi % 2 == 0: \n",
    "        print(sayi)"
   ]
  },
  {
   "cell_type": "markdown",
   "metadata": {},
   "source": [
    "## For Döngüsü"
   ]
  },
  {
   "cell_type": "markdown",
   "metadata": {},
   "source": [
    "**while** döngüsü ile yapamayacağınız veya yaparken çok zorlanacağınız şeyleri **for** döngüsü yardımıyla çok kolay bir şekilde halledebilirsiniz."
   ]
  },
  {
   "cell_type": "code",
   "execution_count": 5,
   "metadata": {},
   "outputs": [
    {
     "name": "stdout",
     "output_type": "stream",
     "text": [
      "a\n",
      "b\n",
      "c\n",
      "d\n"
     ]
    }
   ],
   "source": [
    "harfler = \"abcd\"\n",
    "\n",
    "for harf in harfler:\n",
    "    print(harf)"
   ]
  },
  {
   "cell_type": "markdown",
   "metadata": {},
   "source": [
    "Örnekte olduğu gibi for döngüsü bir nesnenin içinde dolaşabilmemizi ve nesnenin sahip olduğu değerlere ayrı ayrı erişebilmemizi sağlar."
   ]
  },
  {
   "cell_type": "markdown",
   "metadata": {},
   "source": [
    "Peki aynı işlemi while döngüsü ile yazalım ve karşılaştıralım."
   ]
  },
  {
   "cell_type": "code",
   "execution_count": 6,
   "metadata": {},
   "outputs": [
    {
     "name": "stdout",
     "output_type": "stream",
     "text": [
      "a\n",
      "b\n",
      "c\n",
      "d\n"
     ]
    }
   ],
   "source": [
    "a = 0\n",
    "\n",
    "while a < len(harfler):\n",
    "    print(harfler[a])\n",
    "    a += 1"
   ]
  },
  {
   "cell_type": "markdown",
   "metadata": {},
   "source": [
    "For döngüsü ile yaptığımız işlemin aynısını while ile de yapabildik fakat biraz daha uzun sürdü. Bu yüzden for ile yapabileceğimiz bir işlemi while ile yapmamak daha iyi olacaktır."
   ]
  },
  {
   "cell_type": "markdown",
   "metadata": {},
   "source": [
    "## İlgili Araçlar"
   ]
  },
  {
   "cell_type": "markdown",
   "metadata": {},
   "source": [
    "Döngüler kendilerinin yanına bazı fonksiyonlar alabilmektedir. Bu fonksiyonları inceleyelim."
   ]
  },
  {
   "cell_type": "markdown",
   "metadata": {},
   "source": [
    "### range Fonksiyonu"
   ]
  },
  {
   "cell_type": "markdown",
   "metadata": {},
   "source": [
    "range fonksiyonunu belirli bir aralıkta bulunan sayıları göstermek için kullanıyoruz."
   ]
  },
  {
   "cell_type": "code",
   "execution_count": 7,
   "metadata": {},
   "outputs": [
    {
     "name": "stdout",
     "output_type": "stream",
     "text": [
      "0\n",
      "1\n",
      "2\n",
      "3\n",
      "4\n"
     ]
    }
   ],
   "source": [
    "for i in range(0,5):\n",
    "    print(i)"
   ]
  },
  {
   "cell_type": "markdown",
   "metadata": {},
   "source": [
    "range(ilk_sayi,son_sayi) fonksiyonu şeklinde kullanılır. Burada ilk_sayi aralığa dahil edilirken, son_sayi aralığa dahil edilmez. Eğer biz 1'den 5'e kadar olan sayıları ekrana yazdırmak istiyorsak range fonksiyonu şu şekilde olmalıdır."
   ]
  },
  {
   "cell_type": "code",
   "execution_count": 8,
   "metadata": {},
   "outputs": [
    {
     "name": "stdout",
     "output_type": "stream",
     "text": [
      "0\n",
      "1\n",
      "2\n",
      "3\n",
      "4\n",
      "5\n"
     ]
    }
   ],
   "source": [
    "for i in range(0,6):\n",
    "    print(i)"
   ]
  },
  {
   "cell_type": "markdown",
   "metadata": {},
   "source": [
    "Yukarıdaki örneklerde sayılar hep birer birer arttı. Peki artış miktarını değiştirmek istiyorsak nasıl bir yol izlemeliyiz. O zaman range fonksiyonunu şu şekilde **range(ilk_sayi,son_sayi,artis_miktari)** kullanmalıyız. Burada artış miktarına istediğimiz sayıyı yazabiliriz. Hemen birkaç örnek ile inceleyelim."
   ]
  },
  {
   "cell_type": "code",
   "execution_count": 9,
   "metadata": {},
   "outputs": [
    {
     "name": "stdout",
     "output_type": "stream",
     "text": [
      "5\n",
      "4\n",
      "3\n",
      "2\n",
      "1\n"
     ]
    }
   ],
   "source": [
    "for i in range(5,0,-1):\n",
    "    print(i)"
   ]
  },
  {
   "cell_type": "markdown",
   "metadata": {},
   "source": [
    "Bir başka örnek;"
   ]
  },
  {
   "cell_type": "code",
   "execution_count": 10,
   "metadata": {},
   "outputs": [
    {
     "name": "stdout",
     "output_type": "stream",
     "text": [
      "0\n",
      "2\n",
      "4\n",
      "6\n",
      "8\n"
     ]
    }
   ],
   "source": [
    "for i in range(0,10,2):\n",
    "    print(i)"
   ]
  },
  {
   "cell_type": "markdown",
   "metadata": {},
   "source": [
    "ve bir örnek daha."
   ]
  },
  {
   "cell_type": "code",
   "execution_count": 11,
   "metadata": {},
   "outputs": [
    {
     "name": "stdout",
     "output_type": "stream",
     "text": [
      "0\n",
      "5\n",
      "10\n",
      "15\n"
     ]
    }
   ],
   "source": [
    "for i in range(0,20,5):\n",
    "    print(i)"
   ]
  },
  {
   "cell_type": "markdown",
   "metadata": {},
   "source": [
    "range fonksiyonunun, print fonksiyonu ile kullanımana birkaç örnek verelim;"
   ]
  },
  {
   "cell_type": "code",
   "execution_count": 12,
   "metadata": {},
   "outputs": [
    {
     "name": "stdout",
     "output_type": "stream",
     "text": [
      "0 1 2 3 4 5 6 7 8 9\n"
     ]
    }
   ],
   "source": [
    "print(*range(10))"
   ]
  },
  {
   "cell_type": "markdown",
   "metadata": {},
   "source": [
    "ve range fonksiyonu için son örneğimiz:"
   ]
  },
  {
   "cell_type": "code",
   "execution_count": 13,
   "metadata": {},
   "outputs": [
    {
     "name": "stdout",
     "output_type": "stream",
     "text": [
      "0, 1, 2, 3, 4, 5, 6, 7, 8, 9\n"
     ]
    }
   ],
   "source": [
    "print(*range(10), sep=\", \")"
   ]
  },
  {
   "cell_type": "markdown",
   "metadata": {},
   "source": [
    "### pass Deyimi"
   ]
  },
  {
   "cell_type": "markdown",
   "metadata": {},
   "source": [
    "pass kelimesi ingilizce'de geçmek anlamına gelir. Bu deyimi döngülerle birlikte kullandığımız zaman o yapı göz ardı edilecektir."
   ]
  },
  {
   "cell_type": "code",
   "execution_count": 16,
   "metadata": {},
   "outputs": [
    {
     "name": "stdout",
     "output_type": "stream",
     "text": [
      "Bir sayı giriniz: -1\n"
     ]
    }
   ],
   "source": [
    "sayi = int(input(\"Bir sayı giriniz: \"))    \n",
    "    \n",
    "if sayi < 0:\n",
    "    pass\n",
    "else:\n",
    "    print(sayi)"
   ]
  },
  {
   "cell_type": "markdown",
   "metadata": {},
   "source": [
    "Yukarıdaki örnekte girmiş olduğumuz sayının değeri -1, if bloğuna geldiği zaman baktı sayı 0'dan küçük içeri girdi fakat biz pas geç dediğimiz için herhangi bir işlem yapmadı."
   ]
  },
  {
   "cell_type": "markdown",
   "metadata": {},
   "source": [
    "### break Deyimi"
   ]
  },
  {
   "cell_type": "markdown",
   "metadata": {},
   "source": [
    "break kelimesi ingilizce'de kırmak anlamına gelir. Bu deyimi döngülerle birlikte kullandığımız zaman döngüyü kırar ve dışarı çıkar yani işlem devam etmesi gerekse bile biz break yazdığımız için break deyiminin olduğu yerde işlemleri keser ve dışarı çıkar."
   ]
  },
  {
   "cell_type": "code",
   "execution_count": 17,
   "metadata": {},
   "outputs": [
    {
     "name": "stdout",
     "output_type": "stream",
     "text": [
      "Lütfen bir parola belirleyiniz:123456\n",
      "Parolanız belirlendi!\n"
     ]
    }
   ],
   "source": [
    "while True:\n",
    "    parola = input(\"Lütfen bir parola belirleyiniz:\") \n",
    "    \n",
    "    if len(parola) < 5:\n",
    "        print(\"Parola 5 karakterden az olmamalı!\")\n",
    "    else:\n",
    "        print(\"Parolanız belirlendi!\")\n",
    "        break"
   ]
  },
  {
   "cell_type": "markdown",
   "metadata": {},
   "source": [
    "Eğer yukarıda bulunan örnekte break deyimini yazmamış olsaydık, parolamızı istenildiği gibi belirlediğimiz halde döngü devam edecekti."
   ]
  },
  {
   "cell_type": "markdown",
   "metadata": {},
   "source": [
    "### continue Deyimi"
   ]
  },
  {
   "cell_type": "markdown",
   "metadata": {},
   "source": [
    "continue kelimesi ingilizce'de devam et anlamına gelmektedir. Bu deyimi döngülerde kullandığımız zaman istenilen şart gerçekleşse bile döngüde işleme devam edilir."
   ]
  },
  {
   "cell_type": "code",
   "execution_count": 18,
   "metadata": {},
   "outputs": [
    {
     "name": "stdout",
     "output_type": "stream",
     "text": [
      "Bir sayı girin: 3\n",
      "Bir sayı girin: 2\n",
      "Bir sayı girin: 1\n",
      "Bir sayı girin: iptal\n"
     ]
    }
   ],
   "source": [
    "while True:\n",
    "    s = input(\"Bir sayı girin: \") \n",
    "    \n",
    "    if s == \"iptal\":\n",
    "        break\n",
    "\n",
    "    if len(s) <= 3:\n",
    "        continue\n",
    "    \n",
    "    print(\"En fazla üç haneli bir sayı girebilirsiniz.\")"
   ]
  },
  {
   "cell_type": "markdown",
   "metadata": {},
   "source": [
    "Yukarıdaki örnekte kullanıcı 3'e eşit veya daha küçük sayılar girdiği sürece döngü devam edecek çünkü continue ifadesi bulunmaktadır. Eğer iptal ibaresini girersek döngü kırılmış olacak ve döngüden dışarı çıkılacak."
   ]
  },
  {
   "cell_type": "markdown",
   "metadata": {},
   "source": [
    "> Son Güncelleme: 16 Aralık 2019 - Pazartesi"
   ]
  }
 ],
 "metadata": {
  "kernelspec": {
   "display_name": "Python 3",
   "language": "python",
   "name": "python3"
  },
  "language_info": {
   "codemirror_mode": {
    "name": "ipython",
    "version": 3
   },
   "file_extension": ".py",
   "mimetype": "text/x-python",
   "name": "python",
   "nbconvert_exporter": "python",
   "pygments_lexer": "ipython3",
   "version": "3.7.4"
  }
 },
 "nbformat": 4,
 "nbformat_minor": 2
}
