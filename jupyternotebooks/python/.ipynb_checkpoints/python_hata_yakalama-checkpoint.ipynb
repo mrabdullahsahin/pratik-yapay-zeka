{
 "cells": [
  {
   "cell_type": "markdown",
   "metadata": {},
   "source": [
    "# Hata Yakalama"
   ]
  },
  {
   "cell_type": "markdown",
   "metadata": {},
   "source": [
    "Geliştirdiğimiz programlarda kullanıcı bazen istenilenin dışında bilgiler girebilir. Böyle durumlarda hatalar ile karşılaşacaktır. Bu hatalarda kullanıcının anlayamacağını şekilde karmaşık çıktılar verebilir. Böyle olunca bu hatalar yaşanabileceğin için hataları kullanıcının anlayabileceği ve nerede hata yaptığını ona açık bir şekilde belirten bir yapı oluşturmamız gerekmektedir. Bu kısımda bu durumu ayrıntılı bir şekilde inleceyeceğiz."
   ]
  },
  {
   "cell_type": "markdown",
   "metadata": {},
   "source": [
    "## Hata Türleri"
   ]
  },
  {
   "cell_type": "markdown",
   "metadata": {},
   "source": [
    "Hataları üç farklı başlık altında inceleyeğiz:\n",
    "\n",
    "1. Programcı Hataları(Error)\n",
    "\n",
    "2. Program Kusuları(Bug)\n",
    "\n",
    "3. İstisnalar(Exception)"
   ]
  },
  {
   "cell_type": "markdown",
   "metadata": {},
   "source": [
    "### Programcı Hataları(Error)\n",
    "\n",
    "Başlıktanda anlaşılacağı üzere programcının yapmış olduğu hatalardır. Bunlar yazım hataları ve tanımlama hataları gibi hatalardan oluşurlar. Bir örnek ile inceleyelim:"
   ]
  },
  {
   "cell_type": "code",
   "execution_count": 1,
   "metadata": {},
   "outputs": [
    {
     "ename": "SyntaxError",
     "evalue": "Missing parentheses in call to 'print'. Did you mean print(\"Merhaba Dünya\")? (<ipython-input-1-267fc15c875c>, line 1)",
     "output_type": "error",
     "traceback": [
      "\u001b[0;36m  File \u001b[0;32m\"<ipython-input-1-267fc15c875c>\"\u001b[0;36m, line \u001b[0;32m1\u001b[0m\n\u001b[0;31m    print \"Merhaba Dünya\"\u001b[0m\n\u001b[0m                        ^\u001b[0m\n\u001b[0;31mSyntaxError\u001b[0m\u001b[0;31m:\u001b[0m Missing parentheses in call to 'print'. Did you mean print(\"Merhaba Dünya\")?\n"
     ]
    }
   ],
   "source": [
    "print \"Merhaba Dünya\""
   ]
  },
  {
   "cell_type": "markdown",
   "metadata": {},
   "source": [
    "Yukarıdaki örnekte görüldüğü üzere print fonksiyonu için parantezleri yazmadığımız için hata oluştu. Bu tür hatalar programcı hatalarıdır."
   ]
  },
  {
   "cell_type": "markdown",
   "metadata": {},
   "source": [
    "### Program Kusurları(Bug)\n",
    "\n",
    "Program kusurları çoğu zaman hata vermeden çalışır fakat ürettiği sonuçlar istediğimiz gibi değildir. Örnek vermek gerekirse formül gerektiren bir programda eğer formülü yanlış yazmışsanız program çalışır yalnız sonuç hatalı olur. Bu durumu bir örnek ile inceleyelim."
   ]
  },
  {
   "cell_type": "code",
   "execution_count": 2,
   "metadata": {},
   "outputs": [
    {
     "name": "stdout",
     "output_type": "stream",
     "text": [
      "Toplama işlemi için ilk sayıyı girin: 1\n",
      "Toplama işlemi için ikinci sayıyı girin: 2\n",
      "1 + 2 = 12\n"
     ]
    }
   ],
   "source": [
    "sayi1 = input(\"Toplama işlemi için ilk sayıyı girin: \") \n",
    "sayi2 = input(\"Toplama işlemi için ikinci sayıyı girin: \")\n",
    "\n",
    "print(sayi1, \"+\", sayi2, \"=\", sayi1 + sayi2)"
   ]
  },
  {
   "cell_type": "markdown",
   "metadata": {},
   "source": [
    "Yukarıdaki örnekte görüldüğü üzere program iki sayıyı toplamak yerine onları yan yana yazdırmaktadır. Biz kullanıcıdan sayıları alırken int türüne dönüşümlerini sağlamadığımız için hata oluştu."
   ]
  },
  {
   "cell_type": "markdown",
   "metadata": {},
   "source": [
    "### İstisnalar(Exception)\n",
    "\n",
    "İstisnalar, bir programın çalışması sırasında ortaya çıkan, normalden farklı, istisnai durumlardır. Matematiksel bir işlem yapılması gereken bir yerde kullanıcı eğer harfsel bir veri girerse hataya sebep olur. Bu durumu inceleyelim:"
   ]
  },
  {
   "cell_type": "code",
   "execution_count": 3,
   "metadata": {},
   "outputs": [
    {
     "name": "stdout",
     "output_type": "stream",
     "text": [
      "Bir sayı giriniz: 1\n",
      "Bir sayı giriniz: a\n"
     ]
    },
    {
     "ename": "ValueError",
     "evalue": "invalid literal for int() with base 10: 'a'",
     "output_type": "error",
     "traceback": [
      "\u001b[0;31m---------------------------------------------------------------------------\u001b[0m",
      "\u001b[0;31mValueError\u001b[0m                                Traceback (most recent call last)",
      "\u001b[0;32m<ipython-input-3-5310f8e3b775>\u001b[0m in \u001b[0;36m<module>\u001b[0;34m\u001b[0m\n\u001b[1;32m      1\u001b[0m \u001b[0msayi1\u001b[0m \u001b[0;34m=\u001b[0m \u001b[0mint\u001b[0m\u001b[0;34m(\u001b[0m\u001b[0minput\u001b[0m\u001b[0;34m(\u001b[0m\u001b[0;34m\"Bir sayı giriniz: \"\u001b[0m\u001b[0;34m)\u001b[0m\u001b[0;34m)\u001b[0m\u001b[0;34m\u001b[0m\u001b[0;34m\u001b[0m\u001b[0m\n\u001b[0;32m----> 2\u001b[0;31m \u001b[0msayi2\u001b[0m \u001b[0;34m=\u001b[0m \u001b[0mint\u001b[0m\u001b[0;34m(\u001b[0m\u001b[0minput\u001b[0m\u001b[0;34m(\u001b[0m\u001b[0;34m\"Bir sayı giriniz: \"\u001b[0m\u001b[0;34m)\u001b[0m\u001b[0;34m)\u001b[0m\u001b[0;34m\u001b[0m\u001b[0;34m\u001b[0m\u001b[0m\n\u001b[0m\u001b[1;32m      3\u001b[0m \u001b[0;34m\u001b[0m\u001b[0m\n\u001b[1;32m      4\u001b[0m \u001b[0mprint\u001b[0m\u001b[0;34m(\u001b[0m\u001b[0;34m\"Sonuç: \"\u001b[0m\u001b[0;34m,\u001b[0m\u001b[0msayi1\u001b[0m \u001b[0;34m/\u001b[0m \u001b[0msayi2\u001b[0m\u001b[0;34m)\u001b[0m\u001b[0;34m\u001b[0m\u001b[0;34m\u001b[0m\u001b[0m\n",
      "\u001b[0;31mValueError\u001b[0m: invalid literal for int() with base 10: 'a'"
     ]
    }
   ],
   "source": [
    "sayi1 = int(input(\"Bir sayı giriniz: \"))\n",
    "sayi2 = int(input(\"Bir sayı giriniz: \"))\n",
    "\n",
    "print(\"Sonuç: \",sayi1 / sayi2)"
   ]
  },
  {
   "cell_type": "markdown",
   "metadata": {},
   "source": [
    "Örnektede görüldüğü gibi kullanıcı sayısal bir veri girmesi gerekirken harfsel bir veri girdiği için programda hata oluştu."
   ]
  },
  {
   "cell_type": "markdown",
   "metadata": {},
   "source": [
    "Bir başka örnekte matematikte bulunan istisnai durumlar. Sayıların 0'a bölünme durumu bir hatadır. Bu durumu inceleyelim."
   ]
  },
  {
   "cell_type": "code",
   "execution_count": 4,
   "metadata": {},
   "outputs": [
    {
     "name": "stdout",
     "output_type": "stream",
     "text": [
      "Bir sayı giriniz: 1\n",
      "Bir sayı giriniz: 0\n"
     ]
    },
    {
     "ename": "ZeroDivisionError",
     "evalue": "division by zero",
     "output_type": "error",
     "traceback": [
      "\u001b[0;31m---------------------------------------------------------------------------\u001b[0m",
      "\u001b[0;31mZeroDivisionError\u001b[0m                         Traceback (most recent call last)",
      "\u001b[0;32m<ipython-input-4-5310f8e3b775>\u001b[0m in \u001b[0;36m<module>\u001b[0;34m\u001b[0m\n\u001b[1;32m      2\u001b[0m \u001b[0msayi2\u001b[0m \u001b[0;34m=\u001b[0m \u001b[0mint\u001b[0m\u001b[0;34m(\u001b[0m\u001b[0minput\u001b[0m\u001b[0;34m(\u001b[0m\u001b[0;34m\"Bir sayı giriniz: \"\u001b[0m\u001b[0;34m)\u001b[0m\u001b[0;34m)\u001b[0m\u001b[0;34m\u001b[0m\u001b[0;34m\u001b[0m\u001b[0m\n\u001b[1;32m      3\u001b[0m \u001b[0;34m\u001b[0m\u001b[0m\n\u001b[0;32m----> 4\u001b[0;31m \u001b[0mprint\u001b[0m\u001b[0;34m(\u001b[0m\u001b[0;34m\"Sonuç: \"\u001b[0m\u001b[0;34m,\u001b[0m\u001b[0msayi1\u001b[0m \u001b[0;34m/\u001b[0m \u001b[0msayi2\u001b[0m\u001b[0;34m)\u001b[0m\u001b[0;34m\u001b[0m\u001b[0;34m\u001b[0m\u001b[0m\n\u001b[0m",
      "\u001b[0;31mZeroDivisionError\u001b[0m: division by zero"
     ]
    }
   ],
   "source": [
    "sayi1 = int(input(\"Bir sayı giriniz: \"))\n",
    "sayi2 = int(input(\"Bir sayı giriniz: \"))\n",
    "\n",
    "print(\"Sonuç: \",sayi1 / sayi2)"
   ]
  },
  {
   "cell_type": "markdown",
   "metadata": {},
   "source": [
    "Program hata olarak division by zero yani sıfıra bölünme hatası verdi. Bu gibi durumları yakalayıp programımızı bu tür hatalardan temizlememiz gerekmektedir. Şimdide bunları nasıl yapabileceğimizi görelim."
   ]
  },
  {
   "cell_type": "markdown",
   "metadata": {},
   "source": [
    "## try..... except.....\n",
    "\n",
    "Hata Türleri kısmında hataların neler olduğundan bahsettik. Bu bölümde bu hataların nasıl yakalanacağını inceleyeceğiz. Yukarıda hata ile karşılaştığımız programları tek tek düzeltelim."
   ]
  },
  {
   "cell_type": "code",
   "execution_count": 5,
   "metadata": {},
   "outputs": [
    {
     "name": "stdout",
     "output_type": "stream",
     "text": [
      "Bir sayı giriniz: 1\n",
      "Bir sayı giriniz: a\n",
      "Lütfen sadece sayı giriniz!\n"
     ]
    }
   ],
   "source": [
    "try:\n",
    "    sayi1 = int(input(\"Bir sayı giriniz: \"))\n",
    "    sayi2 = int(input(\"Bir sayı giriniz: \"))\n",
    "    print(\"Sonuç: \",sayi1 / sayi2)\n",
    "except ValueError:\n",
    "    print(\"Lütfen sadece sayı giriniz!\")"
   ]
  },
  {
   "cell_type": "markdown",
   "metadata": {},
   "source": [
    "Yukarıda çözdüğüm kod parçasını inceleyelim. \n",
    "\n",
    "try: \n",
    "\n",
    "    Bu bloğa hata olması beklenen kodları yazmamız gerekmektedir.\n",
    "    \n",
    "except Hata_adi:\n",
    "\n",
    "    Bu bloğa kullanıcıya gösterilmesini istediğimiz mesajı yazıyoruz."
   ]
  },
  {
   "cell_type": "markdown",
   "metadata": {},
   "source": [
    "Şimdide sıfıra bölünme hatası durumunu çözelim."
   ]
  },
  {
   "cell_type": "code",
   "execution_count": 6,
   "metadata": {},
   "outputs": [
    {
     "name": "stdout",
     "output_type": "stream",
     "text": [
      "Bir sayı giriniz: 1\n",
      "Bir sayı giriniz: 0\n",
      "Herhangi bir sayı sıfıra bölünemez.\n"
     ]
    }
   ],
   "source": [
    "try:\n",
    "    sayi1 = int(input(\"Bir sayı giriniz: \"))\n",
    "    sayi2 = int(input(\"Bir sayı giriniz: \"))\n",
    "\n",
    "    print(\"Sonuç: \",sayi1 / sayi2)\n",
    "except ZeroDivisionError:\n",
    "    print(\"Herhangi bir sayı sıfıra bölünemez.\")"
   ]
  },
  {
   "cell_type": "markdown",
   "metadata": {},
   "source": [
    "Peki hem sıfıra bölünme hatası yaşanabilecek hem de değer hatası olabilmesi durumunda ne yapmamız gerekiyor. Bu durumu iki farklı yol ile çözebiliriz:"
   ]
  },
  {
   "cell_type": "markdown",
   "metadata": {},
   "source": [
    "**1. Yol**"
   ]
  },
  {
   "cell_type": "code",
   "execution_count": 7,
   "metadata": {},
   "outputs": [
    {
     "name": "stdout",
     "output_type": "stream",
     "text": [
      "Bir sayı giriniz: 1\n",
      "Bir sayı giriniz: 0\n",
      "Herhangi bir sayı sıfıra bölünemez.\n"
     ]
    }
   ],
   "source": [
    "try:\n",
    "    sayi1 = int(input(\"Bir sayı giriniz: \"))\n",
    "    sayi2 = int(input(\"Bir sayı giriniz: \"))\n",
    "\n",
    "    print(\"Sonuç: \",sayi1 / sayi2)\n",
    "except ZeroDivisionError:\n",
    "    print(\"Herhangi bir sayı sıfıra bölünemez.\")\n",
    "except ValueError:\n",
    "    print(\"Lütfen sadece sayı giriniz.\")"
   ]
  },
  {
   "cell_type": "markdown",
   "metadata": {},
   "source": [
    "**2. Yol**"
   ]
  },
  {
   "cell_type": "code",
   "execution_count": 8,
   "metadata": {},
   "outputs": [
    {
     "name": "stdout",
     "output_type": "stream",
     "text": [
      "Bir sayı giriniz: a\n",
      "Bir hata ile karşılaşıldı.\n"
     ]
    }
   ],
   "source": [
    "try:\n",
    "    sayi1 = int(input(\"Bir sayı giriniz: \"))\n",
    "    sayi2 = int(input(\"Bir sayı giriniz: \"))\n",
    "\n",
    "    print(\"Sonuç: \",sayi1 / sayi2)\n",
    "except (ZeroDivisionError, ValueError):\n",
    "    print(\"Bir hata ile karşılaşıldı.\")"
   ]
  },
  {
   "cell_type": "markdown",
   "metadata": {},
   "source": [
    "## try..... except..... as.....\n",
    "\n",
    "Bu yapıda hatanın adını değilde hatanın tam olarak ne olduğunu hataya dair açıklamayı öğrenebiliyoruz. Örnek üzerine inceleyelim:"
   ]
  },
  {
   "cell_type": "code",
   "execution_count": 11,
   "metadata": {},
   "outputs": [
    {
     "name": "stdout",
     "output_type": "stream",
     "text": [
      "Bir sayı giriniz: 1\n",
      "Bir sayı giriniz: a\n",
      "invalid literal for int() with base 10: 'a'\n"
     ]
    }
   ],
   "source": [
    "try:\n",
    "    sayi1 = int(input(\"Bir sayı giriniz: \"))\n",
    "    sayi2 = int(input(\"Bir sayı giriniz: \"))\n",
    "\n",
    "    print(\"Sonuç: \",sayi1 / sayi2)\n",
    "except ValueError as hata:\n",
    "    print(hata)"
   ]
  },
  {
   "cell_type": "markdown",
   "metadata": {},
   "source": [
    "Gördüğünüz gibi hatanın adını değilde direk hatanın tam olarak ne olduğunu açıklamasını ekranda gösterdik."
   ]
  },
  {
   "cell_type": "markdown",
   "metadata": {},
   "source": [
    "## try..... except..... else.....\n",
    "\n",
    "Yazdığımı programlarda birçok farklı hata ile karşılaşabiliriz. Hataları farklı bir şekilde karşılayıp farklı kullanıcı mesajları vermek isteyebiliriz. Bu durum genelde pek tavsiye edilmez çünkü kodumuz çok parçalı olacağından dolayı. Fakat biz yinede bu durumuda inceleyelim:"
   ]
  },
  {
   "cell_type": "code",
   "execution_count": 12,
   "metadata": {},
   "outputs": [
    {
     "name": "stdout",
     "output_type": "stream",
     "text": [
      "bölünecek sayı: 1\n",
      "bölen sayı: 0\n",
      "Bir sayıyı 0'a bölemezsiniz!\n"
     ]
    }
   ],
   "source": [
    "try:\n",
    "    bölünen = int(input(\"bölünecek sayı: \")) \n",
    "    bölen = int(input(\"bölen sayı: \"))\n",
    "except ValueError:\n",
    "    print(\"Lütfen sadece sayı girin!\")\n",
    "else: \n",
    "    try:\n",
    "        print(bölünen/bölen)\n",
    "    except ZeroDivisionError:\n",
    "        print(\"Bir sayıyı 0'a bölemezsiniz!\")"
   ]
  },
  {
   "cell_type": "markdown",
   "metadata": {},
   "source": [
    "Yukarıdaki kod bloğundanda anlaşıldığı üzere sıfıra bölünme durumunu farklı bir alanda yakalayıp kontrol ediyor ve buna uygun bir mesaj veriyoruz kullanıcıya. Bu durumu kullanıcı açısından düşündüğümüz zaman güzel bir şey fakat hatalar birkaç tane olmadığı için böyle bir şey yapmamız kodumuzun çok parçalı olmasına ve çalıştığımız proje büyüdükçe kontrol zorlaşacağı için bu durumu pek tavsiye edilmez."
   ]
  },
  {
   "cell_type": "markdown",
   "metadata": {},
   "source": [
    "## try..... except..... finally.....\n",
    "\n",
    "Bu kod yapısında hata olsun veya olmasın her daim finally bloğu çalıştırılır. Bir örnek üzerinden inceleyelim:"
   ]
  },
  {
   "cell_type": "code",
   "execution_count": 13,
   "metadata": {},
   "outputs": [
    {
     "name": "stdout",
     "output_type": "stream",
     "text": [
      "Bir sayı giriniz: 1\n",
      "Bir sayı giriniz: 0\n",
      "Herhangi bir sayı sıfıra bölünemez.\n",
      "Finally her zaman çalışır.\n"
     ]
    }
   ],
   "source": [
    "try:\n",
    "    sayi1 = int(input(\"Bir sayı giriniz: \"))\n",
    "    sayi2 = int(input(\"Bir sayı giriniz: \"))\n",
    "\n",
    "    print(\"Sonuç: \",sayi1 / sayi2)\n",
    "except ZeroDivisionError:\n",
    "    print(\"Herhangi bir sayı sıfıra bölünemez.\")\n",
    "finally:\n",
    "    print(\"Finally her zaman çalışır.\")"
   ]
  },
  {
   "cell_type": "markdown",
   "metadata": {},
   "source": [
    "## raise\n",
    "\n",
    "Bazen yazdığımız programlarda hata oluşmayacak olsa bile biz bu tür durumlarda bir hata mesajı göstermek isteyebiliriz. Bir örnek ile inceleyelim:"
   ]
  },
  {
   "cell_type": "code",
   "execution_count": 14,
   "metadata": {},
   "outputs": [
    {
     "name": "stdout",
     "output_type": "stream",
     "text": [
      "bölünecek sayı: 5\n"
     ]
    },
    {
     "ename": "Exception",
     "evalue": "5 sayısını kullanamazsınız.",
     "output_type": "error",
     "traceback": [
      "\u001b[0;31m---------------------------------------------------------------------------\u001b[0m",
      "\u001b[0;31mException\u001b[0m                                 Traceback (most recent call last)",
      "\u001b[0;32m<ipython-input-14-d3500b3eb850>\u001b[0m in \u001b[0;36m<module>\u001b[0;34m\u001b[0m\n\u001b[1;32m      1\u001b[0m \u001b[0mbölünen\u001b[0m \u001b[0;34m=\u001b[0m \u001b[0mint\u001b[0m\u001b[0;34m(\u001b[0m\u001b[0minput\u001b[0m\u001b[0;34m(\u001b[0m\u001b[0;34m\"bölünecek sayı: \"\u001b[0m\u001b[0;34m)\u001b[0m\u001b[0;34m)\u001b[0m\u001b[0;34m\u001b[0m\u001b[0;34m\u001b[0m\u001b[0m\n\u001b[1;32m      2\u001b[0m \u001b[0;32mif\u001b[0m \u001b[0mbölünen\u001b[0m \u001b[0;34m==\u001b[0m \u001b[0;36m5\u001b[0m\u001b[0;34m:\u001b[0m\u001b[0;34m\u001b[0m\u001b[0;34m\u001b[0m\u001b[0m\n\u001b[0;32m----> 3\u001b[0;31m     \u001b[0;32mraise\u001b[0m \u001b[0mException\u001b[0m\u001b[0;34m(\u001b[0m\u001b[0;34m\"5 sayısını kullanamazsınız.\"\u001b[0m\u001b[0;34m)\u001b[0m\u001b[0;34m\u001b[0m\u001b[0;34m\u001b[0m\u001b[0m\n\u001b[0m\u001b[1;32m      4\u001b[0m \u001b[0;34m\u001b[0m\u001b[0m\n\u001b[1;32m      5\u001b[0m \u001b[0mbölen\u001b[0m \u001b[0;34m=\u001b[0m \u001b[0mint\u001b[0m\u001b[0;34m(\u001b[0m\u001b[0minput\u001b[0m\u001b[0;34m(\u001b[0m\u001b[0;34m\"bölen sayı: \"\u001b[0m\u001b[0;34m)\u001b[0m\u001b[0;34m)\u001b[0m\u001b[0;34m\u001b[0m\u001b[0;34m\u001b[0m\u001b[0m\n",
      "\u001b[0;31mException\u001b[0m: 5 sayısını kullanamazsınız."
     ]
    }
   ],
   "source": [
    "bölünen = int(input(\"bölünecek sayı: \")) \n",
    "if bölünen == 5:\n",
    "    raise Exception(\"5 sayısını kullanamazsınız.\")\n",
    "    \n",
    "bölen = int(input(\"bölen sayı: \")) \n",
    "print(bölünen/bölen)"
   ]
  },
  {
   "cell_type": "markdown",
   "metadata": {},
   "source": [
    "Burada raise kelimesinden sonra bulunan Exception anahtar kelimesinin yerine istediğimizi yazamayız. Onun yerine sadece Python içinde bulunan hata belirten anahtar kelimelerini kullanabiliriz. Bu kelimelere örnek vermek gerekirse NameError, TypeError, ZeroDivisionError, vb..."
   ]
  },
  {
   "cell_type": "markdown",
   "metadata": {},
   "source": [
    "## Bütün Hataları Yakalamak\n",
    "\n",
    "Geliştirdiğimiz programda beklediğimiz hataların dışında beklemediğimiz hatalar ile de karşılaşabiliriz. Bu durumu önlemek için beklediğimiz hataların dışından bulunan bütün hatalarıda yakalamamız gerekmektedir. Bir örnek ile inceleyelim:"
   ]
  },
  {
   "cell_type": "code",
   "execution_count": 15,
   "metadata": {},
   "outputs": [
    {
     "name": "stdout",
     "output_type": "stream",
     "text": [
      "Bir sayı giriniz: 1\n",
      "Bir sayı giriniz: 2\n",
      "Sonuç:  0.5\n"
     ]
    }
   ],
   "source": [
    "try:\n",
    "    sayi1 = int(input(\"Bir sayı giriniz: \"))\n",
    "    sayi2 = int(input(\"Bir sayı giriniz: \"))\n",
    "\n",
    "    print(\"Sonuç: \",sayi1 / sayi2)\n",
    "except ZeroDivisionError:\n",
    "    print(\"Herhangi bir sayı sıfıra bölünemez.\")\n",
    "except ValueError:\n",
    "    print(\"Lütfen sadece sayı giriniz.\")\n",
    "except:\n",
    "    print(\"Bir hata ile karşılaşıldı.\")"
   ]
  },
  {
   "cell_type": "markdown",
   "metadata": {},
   "source": [
    "## Diğer Hatalar"
   ]
  },
  {
   "cell_type": "markdown",
   "metadata": {},
   "source": [
    "Python içerisinde bulunan diğer hataların neler olduğunu öğrenmek isterseniz eğer <a href=\"https://docs.python.org/3/library/exceptions.html\" target=\"_blank\"> <strong>buradan</strong></a> öğrenebilirsiniz."
   ]
  },
  {
   "cell_type": "markdown",
   "metadata": {},
   "source": [
    "> Son Güncelleme: 17 Aralık 2019"
   ]
  }
 ],
 "metadata": {
  "kernelspec": {
   "display_name": "Python 3",
   "language": "python",
   "name": "python3"
  },
  "language_info": {
   "codemirror_mode": {
    "name": "ipython",
    "version": 3
   },
   "file_extension": ".py",
   "mimetype": "text/x-python",
   "name": "python",
   "nbconvert_exporter": "python",
   "pygments_lexer": "ipython3",
   "version": "3.7.4"
  }
 },
 "nbformat": 4,
 "nbformat_minor": 2
}
