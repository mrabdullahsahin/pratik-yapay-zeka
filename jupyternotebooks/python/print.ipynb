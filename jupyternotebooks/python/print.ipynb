{
 "cells": [
  {
   "cell_type": "markdown",
   "metadata": {},
   "source": [
    "# print Fonksiyonu"
   ]
  },
  {
   "cell_type": "markdown",
   "metadata": {},
   "source": [
    "Print fonksiyonu ekrana çıktı vermemizi sağlar."
   ]
  },
  {
   "cell_type": "code",
   "execution_count": 1,
   "metadata": {},
   "outputs": [
    {
     "name": "stdout",
     "output_type": "stream",
     "text": [
      "Python\n"
     ]
    }
   ],
   "source": [
    "print(\"Python\")"
   ]
  },
  {
   "cell_type": "markdown",
   "metadata": {},
   "source": [
    "Print fonksiyonunu üç farklı tırnak ile birlikte kullanabilirsiniz."
   ]
  },
  {
   "cell_type": "markdown",
   "metadata": {},
   "source": [
    "1. Tek tırnak (‘ ‘)\n",
    "2. Çift tırnak (” ”)\n",
    "3. Üç tırnak (“”” “””)"
   ]
  },
  {
   "cell_type": "code",
   "execution_count": 2,
   "metadata": {},
   "outputs": [
    {
     "name": "stdout",
     "output_type": "stream",
     "text": [
      "1) Python programlama dili\n",
      "2) Python programlama dili\n",
      "3) Python programlama dili\n"
     ]
    }
   ],
   "source": [
    "print('1) Python programlama dili')\n",
    "print(\"2) Python programlama dili\")\n",
    "print(\"\"\"3) Python programlama dili\"\"\")"
   ]
  },
  {
   "cell_type": "markdown",
   "metadata": {},
   "source": [
    "Print fonksiyonun içerisinde tırnakları beraber kullanmak istedğiniz zaman ise şu şekilde bir yol izleyebilirsiniz."
   ]
  },
  {
   "cell_type": "code",
   "execution_count": 3,
   "metadata": {},
   "outputs": [
    {
     "name": "stdout",
     "output_type": "stream",
     "text": [
      "Python programlama dilinin adı \"piton\" yılanından gelmez\n",
      "İstanbul'un 5 günlük hava durumu tahmini\n",
      "Python programlama dilinin adı \"piton\" yılanından gelmez\n",
      "İstanbul'un 5 günlük hava durumu tahmini\n"
     ]
    }
   ],
   "source": [
    "print('Python programlama dilinin adı \"piton\" yılanından gelmez')\n",
    "print(\"İstanbul'un 5 günlük hava durumu tahmini\")\n",
    "print(\"\"\"Python programlama dilinin adı \"piton\" yılanından gelmez\"\"\")\n",
    "print(\"\"\"İstanbul'un 5 günlük hava durumu tahmini\"\"\")"
   ]
  },
  {
   "cell_type": "markdown",
   "metadata": {},
   "source": [
    "Print içerisinde üç tırnak kullanarak çok farklı çıktılar verebilirsiniz."
   ]
  },
  {
   "cell_type": "code",
   "execution_count": 5,
   "metadata": {},
   "outputs": [
    {
     "name": "stdout",
     "output_type": "stream",
     "text": [
      "\n",
      " [H]=========ŞAHİ========[-][o][x]\n",
      " |                                 |\n",
      " |     Programa Hoşgeldiniz!       |\n",
      " |           Sürüm 0.8             |\n",
      " |    Devam etmek için herhangi    |\n",
      " |       bir düğmeye basın.        |\n",
      " |                                 |\n",
      " |=================================|\n",
      " \n"
     ]
    }
   ],
   "source": [
    "print(\"\"\"\n",
    " [H]=========ŞAHİ========[-][o][x]\n",
    " |                                 |\n",
    " |     Programa Hoşgeldiniz!       |\n",
    " |           Sürüm 0.8             |\n",
    " |    Devam etmek için herhangi    |\n",
    " |       bir düğmeye basın.        |\n",
    " |                                 |\n",
    " |=================================|\n",
    " \"\"\")"
   ]
  },
  {
   "cell_type": "markdown",
   "metadata": {},
   "source": [
    "Print fonksiyonunda rakam ile harfleri beraber yazdırabilirsiniz."
   ]
  },
  {
   "cell_type": "code",
   "execution_count": 6,
   "metadata": {},
   "outputs": [
    {
     "name": "stdout",
     "output_type": "stream",
     "text": [
      "Python Versiyon 3.7\n"
     ]
    }
   ],
   "source": [
    "print(\"Python\", \"Versiyon\",3.7)"
   ]
  },
  {
   "cell_type": "markdown",
   "metadata": {},
   "source": [
    "## print() Fonksiyonunun Parametreleri"
   ]
  },
  {
   "cell_type": "markdown",
   "metadata": {},
   "source": [
    "### sep"
   ]
  },
  {
   "cell_type": "markdown",
   "metadata": {},
   "source": [
    "sep parametresi, ekrana basılacak öğeler arasına hangi karakterin yerleştirileceğini gösterir."
   ]
  },
  {
   "cell_type": "code",
   "execution_count": 7,
   "metadata": {},
   "outputs": [
    {
     "name": "stdout",
     "output_type": "stream",
     "text": [
      "http://www.istihza.com\n"
     ]
    }
   ],
   "source": [
    "print(\"http://\", \"www.\", \"istihza.\", \"com\", sep=\"\")"
   ]
  },
  {
   "cell_type": "code",
   "execution_count": 8,
   "metadata": {},
   "outputs": [
    {
     "name": "stdout",
     "output_type": "stream",
     "text": [
      "İstanbul-Konya\n"
     ]
    }
   ],
   "source": [
    "print(\"İstanbul\", \"Konya\", sep=\"-\")"
   ]
  },
  {
   "cell_type": "markdown",
   "metadata": {},
   "source": [
    "### end"
   ]
  },
  {
   "cell_type": "markdown",
   "metadata": {},
   "source": [
    "end parametresi ise bu parametrelerin sonuna neyin geleceğini belirler."
   ]
  },
  {
   "cell_type": "code",
   "execution_count": 9,
   "metadata": {},
   "outputs": [
    {
     "name": "stdout",
     "output_type": "stream",
     "text": [
      "Bugün günlerden Cuma."
     ]
    }
   ],
   "source": [
    "print(\"Bugün günlerden Cuma\", end=\".\")"
   ]
  },
  {
   "cell_type": "markdown",
   "metadata": {},
   "source": [
    "### file"
   ]
  },
  {
   "cell_type": "markdown",
   "metadata": {},
   "source": [
    "file verilen karakter dizisi ve/veya sayıların, yani parametrelerin nereye yazılacağını belirtmektir. Aşağıda bulunan komutlarıo çalıştırdığımız taktirde python dosyasının bulunduğu konuma deneme.txt isminde bir dosya oluşturup belirtmiş olduğumuz cümleyi yazacaktır."
   ]
  },
  {
   "cell_type": "code",
   "execution_count": 10,
   "metadata": {},
   "outputs": [],
   "source": [
    "dosya = open(\"deneme.txt\", \"w\")\n",
    "print(\"Ben Python, Monty Python!\", file=dosya)\n",
    "dosya.close()"
   ]
  },
  {
   "cell_type": "markdown",
   "metadata": {},
   "source": [
    "### yıldız(*)"
   ]
  },
  {
   "cell_type": "markdown",
   "metadata": {},
   "source": [
    "Bu parametre veriler arasında işlem yapmamızı sağlar."
   ]
  },
  {
   "cell_type": "code",
   "execution_count": 11,
   "metadata": {},
   "outputs": [
    {
     "name": "stdout",
     "output_type": "stream",
     "text": [
      "P y t h o n\n"
     ]
    }
   ],
   "source": [
    "print(*\"Python\")"
   ]
  }
 ],
 "metadata": {
  "kernelspec": {
   "display_name": "Python 3",
   "language": "python",
   "name": "python3"
  },
  "language_info": {
   "codemirror_mode": {
    "name": "ipython",
    "version": 3
   },
   "file_extension": ".py",
   "mimetype": "text/x-python",
   "name": "python",
   "nbconvert_exporter": "python",
   "pygments_lexer": "ipython3",
   "version": "3.7.4"
  }
 },
 "nbformat": 4,
 "nbformat_minor": 2
}
