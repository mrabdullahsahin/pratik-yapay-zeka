{
 "cells": [
  {
   "cell_type": "markdown",
   "metadata": {},
   "source": [
    "# format() Metodu"
   ]
  },
  {
   "cell_type": "markdown",
   "metadata": {},
   "source": [
    "Bu metod kullanıcıya daha güzel çıktılar verebilmemiz konusunda işlerimizi kolaylaştırmaktadır. Bir örnek üzerinden inceleyelim:"
   ]
  },
  {
   "cell_type": "code",
   "execution_count": 1,
   "metadata": {},
   "outputs": [
    {
     "name": "stdout",
     "output_type": "stream",
     "text": [
      "Django ve Python iyi bir ikilidir.\n"
     ]
    }
   ],
   "source": [
    "print(\"{} ve {} iyi bir ikilidir.\".format(\"Django\", \"Python\"))"
   ]
  },
  {
   "cell_type": "markdown",
   "metadata": {},
   "source": [
    "Yukarıdaki örnekte olduğu gibi istediğimiz şekilde çıkıtıyı ayarlayıp daha sonra çıktıda boşluklara gelmesi gereken yerleri tek tek dolduruyoruz. Peki kullanıcıdan bilgi aldığımız zaman nasıl olacak, bir örnek üzerinden bakalım:"
   ]
  },
  {
   "cell_type": "code",
   "execution_count": 2,
   "metadata": {},
   "outputs": [
    {
     "name": "stdout",
     "output_type": "stream",
     "text": [
      "Bir değer giriniz: kelime\n",
      "Girmiş olduğunuz deger kelime, umarım bu bir sayı değildir.\n"
     ]
    }
   ],
   "source": [
    "deger = input(\"Bir değer giriniz: \")\n",
    "\n",
    "print(\"Girmiş olduğunuz deger {}, umarım bu bir sayı değildir.\".format(deger))"
   ]
  },
  {
   "cell_type": "markdown",
   "metadata": {},
   "source": [
    "Biraz daha karmaşık bir örnek üzerinden bakalım format metoduna:"
   ]
  },
  {
   "cell_type": "code",
   "execution_count": 3,
   "metadata": {},
   "outputs": [
    {
     "name": "stdout",
     "output_type": "stream",
     "text": [
      "Kalkış yeri: Konya\n",
      "Varış yeri: İstanbul\n",
      "İsim ve soyisim: Abdullah\n",
      "Bilet sayısı: 1\n",
      "Konya noktasından İstanbul noktasına, 14:30 hareket saatli \n",
      "sefer için Abdullah adına 1 adet bilet ayrılmıştır!\n"
     ]
    }
   ],
   "source": [
    "kalkış = input(\"Kalkış yeri: \") \n",
    "varış = input(\"Varış yeri: \") \n",
    "isim_soyisim = input(\"İsim ve soyisim: \") \n",
    "bilet_sayısı = input(\"Bilet sayısı: \")\n",
    "\n",
    "print(\"\"\"{} noktasından {} noktasına, 14:30 hareket saatli \n",
    "sefer için {} adına {} adet bilet ayrılmıştır!\"\"\".format(kalkış,\n",
    "                                                         varış,\n",
    "                                                         isim_soyisim,\n",
    "                                                         bilet_sayısı))"
   ]
  },
  {
   "cell_type": "markdown",
   "metadata": {},
   "source": [
    "Eğer istersek şu şekilde bir kullanımda mevcut:"
   ]
  },
  {
   "cell_type": "code",
   "execution_count": 4,
   "metadata": {},
   "outputs": [
    {
     "data": {
      "text/plain": [
       "'Python Django'"
      ]
     },
     "execution_count": 4,
     "metadata": {},
     "output_type": "execute_result"
    }
   ],
   "source": [
    "\"{0} {1}\".format(\"Python\", \"Django\")"
   ]
  },
  {
   "cell_type": "markdown",
   "metadata": {},
   "source": [
    "Bir başka kullanım:"
   ]
  },
  {
   "cell_type": "code",
   "execution_count": 5,
   "metadata": {},
   "outputs": [
    {
     "data": {
      "text/plain": [
       "'Django Python'"
      ]
     },
     "execution_count": 5,
     "metadata": {},
     "output_type": "execute_result"
    }
   ],
   "source": [
    "\"{1} {0}\".format(\"Python\", \"Django\")"
   ]
  },
  {
   "cell_type": "markdown",
   "metadata": {},
   "source": [
    "Diğer bir örnek:"
   ]
  },
  {
   "cell_type": "code",
   "execution_count": 6,
   "metadata": {},
   "outputs": [
    {
     "data": {
      "text/plain": [
       "'Python Django (Django Python)'"
      ]
     },
     "execution_count": 6,
     "metadata": {},
     "output_type": "execute_result"
    }
   ],
   "source": [
    "\"{0} {1} ({1} {0})\".format(\"Python\", \"Django\")"
   ]
  },
  {
   "cell_type": "markdown",
   "metadata": {},
   "source": [
    "Parantez içerisinde sayı kullanmak yerine isimde kullanabiliriz."
   ]
  },
  {
   "cell_type": "code",
   "execution_count": 7,
   "metadata": {},
   "outputs": [
    {
     "name": "stdout",
     "output_type": "stream",
     "text": [
      "python ve django dersleri\n"
     ]
    }
   ],
   "source": [
    "print(\"{dil} ve {web} dersleri\".format(dil=\"python\", web=\"django\"))"
   ]
  },
  {
   "cell_type": "markdown",
   "metadata": {},
   "source": [
    "{} işaretleri arasında bazı sayılar kullanarak, karakter dizileri üzerinde hizalama işlemleri de yapabiliriz."
   ]
  },
  {
   "cell_type": "markdown",
   "metadata": {},
   "source": [
    "- \"> sağa yaslama\"\n",
    "- \"< sola yaslama\" \n",
    "- \"^ ortalama\""
   ]
  },
  {
   "cell_type": "code",
   "execution_count": 9,
   "metadata": {},
   "outputs": [
    {
     "name": "stdout",
     "output_type": "stream",
     "text": [
      "|         python|\n"
     ]
    }
   ],
   "source": [
    "print(\"|{:>15}|\".format(\"python\"))"
   ]
  },
  {
   "cell_type": "markdown",
   "metadata": {},
   "source": [
    "Burada bu > işaret karakterin sağa yaslanacağını ve 15 sayısı ise işlemin 15 karakterlik bir alanda gerçekleştirileceğini belirtmektedir."
   ]
  },
  {
   "cell_type": "code",
   "execution_count": 10,
   "metadata": {},
   "outputs": [
    {
     "name": "stdout",
     "output_type": "stream",
     "text": [
      "|python         |\n"
     ]
    }
   ],
   "source": [
    "print(\"|{:<15}|\".format(\"python\"))"
   ]
  },
  {
   "cell_type": "markdown",
   "metadata": {},
   "source": [
    "Bir diğer örnek:"
   ]
  },
  {
   "cell_type": "code",
   "execution_count": 11,
   "metadata": {},
   "outputs": [
    {
     "name": "stdout",
     "output_type": "stream",
     "text": [
      "|    python     |\n"
     ]
    }
   ],
   "source": [
    "print(\"|{:^15}|\".format(\"python\"))"
   ]
  },
  {
   "cell_type": "markdown",
   "metadata": {},
   "source": [
    "## Biçimlendirme Karakterleri"
   ]
  },
  {
   "cell_type": "markdown",
   "metadata": {},
   "source": [
    "format ile birlikte bazı harfleri kullanabiliriz."
   ]
  },
  {
   "cell_type": "markdown",
   "metadata": {},
   "source": [
    "### s"
   ]
  },
  {
   "cell_type": "markdown",
   "metadata": {},
   "source": [
    "Bu harf karakter dizilerini temsil eder."
   ]
  },
  {
   "cell_type": "code",
   "execution_count": 12,
   "metadata": {},
   "outputs": [
    {
     "name": "stdout",
     "output_type": "stream",
     "text": [
      "Python ve Django iyi bir ikilidir!\n"
     ]
    }
   ],
   "source": [
    "print(\"{:s} ve {:s} iyi bir ikilidir!\".format(\"Python\", \"Django\"))"
   ]
  },
  {
   "cell_type": "markdown",
   "metadata": {},
   "source": [
    "### c"
   ]
  },
  {
   "cell_type": "markdown",
   "metadata": {},
   "source": [
    "Bu harf 0 ile 256 arası sayıların ASCII tablosundaki karşılıklarını temsil eder:"
   ]
  },
  {
   "cell_type": "code",
   "execution_count": 14,
   "metadata": {},
   "outputs": [
    {
     "name": "stdout",
     "output_type": "stream",
     "text": [
      "A\n"
     ]
    }
   ],
   "source": [
    "print(\"{:c}\".format(65))"
   ]
  },
  {
   "cell_type": "markdown",
   "metadata": {},
   "source": [
    "### d"
   ]
  },
  {
   "cell_type": "markdown",
   "metadata": {},
   "source": [
    "Bu harf sayıları temsil eder:"
   ]
  },
  {
   "cell_type": "code",
   "execution_count": 15,
   "metadata": {},
   "outputs": [
    {
     "name": "stdout",
     "output_type": "stream",
     "text": [
      "1453\n"
     ]
    }
   ],
   "source": [
    "print(\"{:d}\".format(1453))"
   ]
  },
  {
   "cell_type": "markdown",
   "metadata": {},
   "source": [
    "### o"
   ]
  },
  {
   "cell_type": "markdown",
   "metadata": {},
   "source": [
    "Bu harf onlu düzendeki sayıları sekizli düzendeki karşılıklarına çevirir:"
   ]
  },
  {
   "cell_type": "code",
   "execution_count": 17,
   "metadata": {},
   "outputs": [
    {
     "name": "stdout",
     "output_type": "stream",
     "text": [
      "2655\n"
     ]
    }
   ],
   "source": [
    "print(\"{:o}\".format(1453))"
   ]
  },
  {
   "cell_type": "markdown",
   "metadata": {},
   "source": [
    "### x"
   ]
  },
  {
   "cell_type": "markdown",
   "metadata": {},
   "source": [
    "Bu harf onlu düzendeki sayıları onaltılı düzendeki karşılıklarına çevirir:"
   ]
  },
  {
   "cell_type": "code",
   "execution_count": 18,
   "metadata": {},
   "outputs": [
    {
     "name": "stdout",
     "output_type": "stream",
     "text": [
      "5ad\n"
     ]
    }
   ],
   "source": [
    "print(\"{:x}\".format(1453))"
   ]
  },
  {
   "cell_type": "markdown",
   "metadata": {},
   "source": [
    "### X"
   ]
  },
  {
   "cell_type": "markdown",
   "metadata": {},
   "source": [
    "Tıpkı x harfinde olduğu gibi, bu harf de onlu düzendeki sayıları onaltılı düzendeki karşılıklarına çevirir:"
   ]
  },
  {
   "cell_type": "code",
   "execution_count": 19,
   "metadata": {},
   "outputs": [
    {
     "data": {
      "text/plain": [
       "'5AD'"
      ]
     },
     "execution_count": 19,
     "metadata": {},
     "output_type": "execute_result"
    }
   ],
   "source": [
    "\"{:X}\".format(1453)"
   ]
  },
  {
   "cell_type": "markdown",
   "metadata": {},
   "source": [
    "### b"
   ]
  },
  {
   "cell_type": "markdown",
   "metadata": {},
   "source": [
    "Bu işaret, onlu düzendeki sayıları ikili düzendeki karşılıklarına çevirir:"
   ]
  },
  {
   "cell_type": "code",
   "execution_count": 20,
   "metadata": {},
   "outputs": [
    {
     "data": {
      "text/plain": [
       "'10'"
      ]
     },
     "execution_count": 20,
     "metadata": {},
     "output_type": "execute_result"
    }
   ],
   "source": [
    "\"{:b}\".format(2)"
   ]
  },
  {
   "cell_type": "markdown",
   "metadata": {},
   "source": [
    "### f"
   ]
  },
  {
   "cell_type": "markdown",
   "metadata": {},
   "source": [
    "Bu işaret, karakter dizileri içindeki kayan noktalı sayıları temsil etmek için kullanılır."
   ]
  },
  {
   "cell_type": "code",
   "execution_count": 22,
   "metadata": {},
   "outputs": [
    {
     "name": "stdout",
     "output_type": "stream",
     "text": [
      "Dolar 1.471000 TL olmuş...\n"
     ]
    }
   ],
   "source": [
    "print(\"Dolar %f TL olmuş...\" %1.4710)"
   ]
  },
  {
   "cell_type": "markdown",
   "metadata": {},
   "source": [
    "Bir başka örnek:"
   ]
  },
  {
   "cell_type": "code",
   "execution_count": 23,
   "metadata": {},
   "outputs": [
    {
     "name": "stdout",
     "output_type": "stream",
     "text": [
      "50.00\n"
     ]
    }
   ],
   "source": [
    "print(\"{:.2f}\".format(50))"
   ]
  },
  {
   "cell_type": "markdown",
   "metadata": {},
   "source": [
    "> Son Güncelleme: 19 Aralık 2019 - Perşembe"
   ]
  }
 ],
 "metadata": {
  "kernelspec": {
   "display_name": "Python 3",
   "language": "python",
   "name": "python3"
  },
  "language_info": {
   "codemirror_mode": {
    "name": "ipython",
    "version": 3
   },
   "file_extension": ".py",
   "mimetype": "text/x-python",
   "name": "python",
   "nbconvert_exporter": "python",
   "pygments_lexer": "ipython3",
   "version": "3.7.4"
  }
 },
 "nbformat": 4,
 "nbformat_minor": 2
}
